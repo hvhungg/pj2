{
 "cells": [
  {
   "cell_type": "markdown",
   "id": "b9b5a999",
   "metadata": {},
   "source": [
    "## Clean and normalize \"metro_startup_ranking.csv\" dataset\n",
    "\n",
    "> Review through data and clean the set at the basic level before merging"
   ]
  },
  {
   "cell_type": "markdown",
   "id": "25556c38",
   "metadata": {},
   "source": [
    "### Import some useful libraries"
   ]
  },
  {
   "cell_type": "code",
   "execution_count": 1,
   "id": "75d94cba",
   "metadata": {},
   "outputs": [
    {
     "name": "stdout",
     "output_type": "stream",
     "text": [
      "import completed\n"
     ]
    }
   ],
   "source": [
    "import pandas as pd\n",
    "import numpy as np\n",
    "print(\"import completed\")"
   ]
  },
  {
   "cell_type": "markdown",
   "id": "e274cb0a",
   "metadata": {},
   "source": [
    "### Import data from csv file"
   ]
  },
  {
   "cell_type": "code",
   "execution_count": 2,
   "id": "d7b871bc",
   "metadata": {},
   "outputs": [],
   "source": [
    "df1 = pd.read_csv(r\"../data/metro_startup_ranking.csv\")\n",
    "df2 = pd.read_csv(r\"../data/csvData.csv\")"
   ]
  },
  {
   "cell_type": "markdown",
   "id": "59d0f47b",
   "metadata": {},
   "source": [
    "### Use external data to fix the data format (\"csvData.csv\" is a file for 2-letter state abbreviations) "
   ]
  },
  {
   "cell_type": "code",
   "execution_count": 3,
   "id": "c282eaa5",
   "metadata": {},
   "outputs": [],
   "source": [
    "for x in range(40):\n",
    "    tmp = df1.loc[x, \"Metro Area States\"].split(\"-\")\n",
    "    df1.loc[x, \"Metro Area States\"] = tmp[0]"
   ]
  },
  {
   "cell_type": "code",
   "execution_count": 4,
   "id": "464cde7e",
   "metadata": {},
   "outputs": [],
   "source": [
    "df = pd.merge(\n",
    "left = df1,\n",
    "right = df2,\n",
    "how = \"inner\",\n",
    "left_on = \"Metro Area States\",\n",
    "right_on = \"State\"\n",
    ")"
   ]
  },
  {
   "cell_type": "markdown",
   "id": "de5c7d96",
   "metadata": {},
   "source": [
    "### Review data"
   ]
  },
  {
   "cell_type": "markdown",
   "id": "84cc0e9a",
   "metadata": {},
   "source": [
    "**1. Review first ten row**"
   ]
  },
  {
   "cell_type": "code",
   "execution_count": 5,
   "id": "b3924140",
   "metadata": {},
   "outputs": [
    {
     "name": "stdout",
     "output_type": "stream",
     "text": [
      "   Metro Area Code                 Metro Area Name Metro Area Main City  \\\n",
      "0            12060  Atlanta-Sandy Springs-Marietta              Atlanta   \n",
      "1            12420    Austin-Round Rock-San Marcos               Austin   \n",
      "2            19100     Dallas-Fort Worth-Arlington               Dallas   \n",
      "3            26420      Houston-Sugar Land-Baytown              Houston   \n",
      "4            41700       San Antonio-New Braunfels           SanAntonio   \n",
      "5            12580                Baltimore-Towson            Baltimore   \n",
      "6            14460         Boston-Cambridge-Quincy               Boston   \n",
      "7            16740    Charlotte-Gastonia-Rock Hill            Charlotte   \n",
      "8            16980       Chicago-Joliet-Naperville              Chicago   \n",
      "9            17140           Cincinnati-Middletown           Cincinnati   \n",
      "\n",
      "  Metro Area States  Startup Rank           State Abbrev Code  \n",
      "0           Georgia            13         Georgia    Ga.   GA  \n",
      "1             Texas             1           Texas   Tex.   TX  \n",
      "2             Texas            15           Texas   Tex.   TX  \n",
      "3             Texas             8           Texas   Tex.   TX  \n",
      "4             Texas            10           Texas   Tex.   TX  \n",
      "5          Maryland            17        Maryland    Md.   MD  \n",
      "6     Massachusetts            22   Massachusetts  Mass.   MA  \n",
      "7    North Carolina            25  North Carolina   N.C.   NC  \n",
      "8          Illinois            21        Illinois   Ill.   IL  \n",
      "9              Ohio            32            Ohio   Ohio   OH  \n"
     ]
    }
   ],
   "source": [
    "print(df.head(10))"
   ]
  },
  {
   "cell_type": "markdown",
   "id": "c03fcdc3",
   "metadata": {},
   "source": [
    "**2. Review basic info**"
   ]
  },
  {
   "cell_type": "code",
   "execution_count": 6,
   "id": "1aba615d",
   "metadata": {},
   "outputs": [
    {
     "name": "stdout",
     "output_type": "stream",
     "text": [
      "(40, 8)\n",
      "<class 'pandas.core.frame.DataFrame'>\n",
      "Int64Index: 40 entries, 0 to 39\n",
      "Data columns (total 8 columns):\n",
      " #   Column                Non-Null Count  Dtype \n",
      "---  ------                --------------  ----- \n",
      " 0   Metro Area Code       40 non-null     int64 \n",
      " 1   Metro Area Name       40 non-null     object\n",
      " 2   Metro Area Main City  40 non-null     object\n",
      " 3   Metro Area States     40 non-null     object\n",
      " 4   Startup Rank          40 non-null     int64 \n",
      " 5   State                 40 non-null     object\n",
      " 6   Abbrev                40 non-null     object\n",
      " 7   Code                  40 non-null     object\n",
      "dtypes: int64(2), object(6)\n",
      "memory usage: 2.8+ KB\n",
      "None\n"
     ]
    }
   ],
   "source": [
    "print(df.shape)\n",
    "print(df.info())"
   ]
  },
  {
   "cell_type": "markdown",
   "id": "2b8df862",
   "metadata": {},
   "source": [
    "**3. Check for duplicated data** "
   ]
  },
  {
   "cell_type": "code",
   "execution_count": 7,
   "id": "22094032",
   "metadata": {},
   "outputs": [
    {
     "name": "stdout",
     "output_type": "stream",
     "text": [
      "Empty DataFrame\n",
      "Columns: [Metro Area Code, Metro Area Name, Metro Area Main City, Metro Area States, Startup Rank, State, Abbrev, Code]\n",
      "Index: []\n"
     ]
    }
   ],
   "source": [
    "dup = df.duplicated()\n",
    "duprow = df[dup]\n",
    "print(duprow)"
   ]
  },
  {
   "cell_type": "markdown",
   "id": "5497654d",
   "metadata": {},
   "source": [
    "**4. Check for number of values in different columns manually**"
   ]
  },
  {
   "cell_type": "code",
   "execution_count": 8,
   "id": "d5f4218e",
   "metadata": {},
   "outputs": [
    {
     "name": "stdout",
     "output_type": "stream",
     "text": [
      "Metro Area Code unique values: 40\n",
      "Metro Area Name unique values: 40\n",
      "Metro Area Main City unique values: 40\n",
      "Metro Area States unique values: 25\n",
      "Startup Rank unique values: 40\n",
      "1 40\n"
     ]
    }
   ],
   "source": [
    "print(\"Metro Area Code unique values:\", len(df[\"Metro Area Code\"].unique())) \n",
    "print(\"Metro Area Name unique values:\", len(df[\"Metro Area Name\"].unique())) \n",
    "print(\"Metro Area Main City unique values:\", len(df[\"Metro Area Main City\"].unique())) \n",
    "print(\"Metro Area States unique values:\", len(df[\"Metro Area States\"].unique())) \n",
    "print(\"Startup Rank unique values:\", len(df[\"Startup Rank\"].unique()))\n",
    "print(df[\"Startup Rank\"].min() ,df[\"Startup Rank\"].max())"
   ]
  },
  {
   "cell_type": "markdown",
   "id": "499508e6",
   "metadata": {},
   "source": [
    "**5. Drop unused columns**"
   ]
  },
  {
   "cell_type": "code",
   "execution_count": 9,
   "id": "b2e75025",
   "metadata": {},
   "outputs": [],
   "source": [
    "df = df.drop(axis = 1, columns = [\"Metro Area Code\", \"Metro Area States\", \"State\", \"Abbrev\"])"
   ]
  },
  {
   "cell_type": "markdown",
   "id": "1d362b18",
   "metadata": {},
   "source": [
    "**6. Sort the data in ascending order by \"startup rank\"**"
   ]
  },
  {
   "cell_type": "code",
   "execution_count": 10,
   "id": "025c8eab",
   "metadata": {},
   "outputs": [
    {
     "data": {
      "text/html": [
       "<div>\n",
       "<style scoped>\n",
       "    .dataframe tbody tr th:only-of-type {\n",
       "        vertical-align: middle;\n",
       "    }\n",
       "\n",
       "    .dataframe tbody tr th {\n",
       "        vertical-align: top;\n",
       "    }\n",
       "\n",
       "    .dataframe thead th {\n",
       "        text-align: right;\n",
       "    }\n",
       "</style>\n",
       "<table border=\"1\" class=\"dataframe\">\n",
       "  <thead>\n",
       "    <tr style=\"text-align: right;\">\n",
       "      <th></th>\n",
       "      <th>Metro Area Name</th>\n",
       "      <th>Metro Area Main City</th>\n",
       "      <th>Startup Rank</th>\n",
       "      <th>Code</th>\n",
       "    </tr>\n",
       "  </thead>\n",
       "  <tbody>\n",
       "    <tr>\n",
       "      <th>0</th>\n",
       "      <td>Austin-Round Rock-San Marcos</td>\n",
       "      <td>Austin</td>\n",
       "      <td>1</td>\n",
       "      <td>TX</td>\n",
       "    </tr>\n",
       "    <tr>\n",
       "      <th>1</th>\n",
       "      <td>Miami-Fort Lauderdale-Pompano Beach</td>\n",
       "      <td>Miami</td>\n",
       "      <td>2</td>\n",
       "      <td>FL</td>\n",
       "    </tr>\n",
       "    <tr>\n",
       "      <th>2</th>\n",
       "      <td>San Jose-Sunnyvale-Santa Clara</td>\n",
       "      <td>SanJose</td>\n",
       "      <td>3</td>\n",
       "      <td>CA</td>\n",
       "    </tr>\n",
       "    <tr>\n",
       "      <th>3</th>\n",
       "      <td>Los Angeles-Long Beach-Santa Ana</td>\n",
       "      <td>LosAngeles</td>\n",
       "      <td>4</td>\n",
       "      <td>CA</td>\n",
       "    </tr>\n",
       "    <tr>\n",
       "      <th>4</th>\n",
       "      <td>Denver-Aurora-Broomfield</td>\n",
       "      <td>Denver</td>\n",
       "      <td>5</td>\n",
       "      <td>CO</td>\n",
       "    </tr>\n",
       "    <tr>\n",
       "      <th>5</th>\n",
       "      <td>San Francisco-Oakland-Fremont</td>\n",
       "      <td>SanFrancisco</td>\n",
       "      <td>6</td>\n",
       "      <td>CA</td>\n",
       "    </tr>\n",
       "    <tr>\n",
       "      <th>6</th>\n",
       "      <td>New York-Northern New Jersey-Long Island</td>\n",
       "      <td>NewYork</td>\n",
       "      <td>7</td>\n",
       "      <td>NY</td>\n",
       "    </tr>\n",
       "    <tr>\n",
       "      <th>7</th>\n",
       "      <td>Houston-Sugar Land-Baytown</td>\n",
       "      <td>Houston</td>\n",
       "      <td>8</td>\n",
       "      <td>TX</td>\n",
       "    </tr>\n",
       "    <tr>\n",
       "      <th>8</th>\n",
       "      <td>San Diego-Carlsbad-San Marcos</td>\n",
       "      <td>SanDiego</td>\n",
       "      <td>9</td>\n",
       "      <td>CA</td>\n",
       "    </tr>\n",
       "    <tr>\n",
       "      <th>9</th>\n",
       "      <td>San Antonio-New Braunfels</td>\n",
       "      <td>SanAntonio</td>\n",
       "      <td>10</td>\n",
       "      <td>TX</td>\n",
       "    </tr>\n",
       "    <tr>\n",
       "      <th>10</th>\n",
       "      <td>Las Vegas-Paradise</td>\n",
       "      <td>LasVegas</td>\n",
       "      <td>11</td>\n",
       "      <td>NV</td>\n",
       "    </tr>\n",
       "    <tr>\n",
       "      <th>11</th>\n",
       "      <td>Columbus</td>\n",
       "      <td>Columbus</td>\n",
       "      <td>12</td>\n",
       "      <td>OH</td>\n",
       "    </tr>\n",
       "    <tr>\n",
       "      <th>12</th>\n",
       "      <td>Atlanta-Sandy Springs-Marietta</td>\n",
       "      <td>Atlanta</td>\n",
       "      <td>13</td>\n",
       "      <td>GA</td>\n",
       "    </tr>\n",
       "    <tr>\n",
       "      <th>13</th>\n",
       "      <td>Phoenix-Mesa-Glendale</td>\n",
       "      <td>Phoenix</td>\n",
       "      <td>14</td>\n",
       "      <td>AZ</td>\n",
       "    </tr>\n",
       "    <tr>\n",
       "      <th>14</th>\n",
       "      <td>Dallas-Fort Worth-Arlington</td>\n",
       "      <td>Dallas</td>\n",
       "      <td>15</td>\n",
       "      <td>TX</td>\n",
       "    </tr>\n",
       "    <tr>\n",
       "      <th>15</th>\n",
       "      <td>Seattle-Tacoma-Bellevue</td>\n",
       "      <td>Seattle</td>\n",
       "      <td>16</td>\n",
       "      <td>WA</td>\n",
       "    </tr>\n",
       "    <tr>\n",
       "      <th>16</th>\n",
       "      <td>Baltimore-Towson</td>\n",
       "      <td>Baltimore</td>\n",
       "      <td>17</td>\n",
       "      <td>MD</td>\n",
       "    </tr>\n",
       "    <tr>\n",
       "      <th>17</th>\n",
       "      <td>Riverside-San Bernardino-Ontario</td>\n",
       "      <td>Riverside</td>\n",
       "      <td>18</td>\n",
       "      <td>CA</td>\n",
       "    </tr>\n",
       "    <tr>\n",
       "      <th>18</th>\n",
       "      <td>Virginia Beach-Norfolk-Newport News</td>\n",
       "      <td>VirginiaBeach</td>\n",
       "      <td>19</td>\n",
       "      <td>VA</td>\n",
       "    </tr>\n",
       "    <tr>\n",
       "      <th>19</th>\n",
       "      <td>Tampa-St. Petersburg-Clearwater</td>\n",
       "      <td>Tampa</td>\n",
       "      <td>20</td>\n",
       "      <td>FL</td>\n",
       "    </tr>\n",
       "    <tr>\n",
       "      <th>20</th>\n",
       "      <td>Chicago-Joliet-Naperville</td>\n",
       "      <td>Chicago</td>\n",
       "      <td>21</td>\n",
       "      <td>IL</td>\n",
       "    </tr>\n",
       "    <tr>\n",
       "      <th>21</th>\n",
       "      <td>Boston-Cambridge-Quincy</td>\n",
       "      <td>Boston</td>\n",
       "      <td>22</td>\n",
       "      <td>MA</td>\n",
       "    </tr>\n",
       "    <tr>\n",
       "      <th>22</th>\n",
       "      <td>Sacramento-Arden-Arcade-Roseville</td>\n",
       "      <td>Sacramento</td>\n",
       "      <td>23</td>\n",
       "      <td>CA</td>\n",
       "    </tr>\n",
       "    <tr>\n",
       "      <th>23</th>\n",
       "      <td>Nashville-Davidson-Murfreesboro-Franklin</td>\n",
       "      <td>Nashville</td>\n",
       "      <td>24</td>\n",
       "      <td>TN</td>\n",
       "    </tr>\n",
       "    <tr>\n",
       "      <th>24</th>\n",
       "      <td>Charlotte-Gastonia-Rock Hill</td>\n",
       "      <td>Charlotte</td>\n",
       "      <td>25</td>\n",
       "      <td>NC</td>\n",
       "    </tr>\n",
       "    <tr>\n",
       "      <th>25</th>\n",
       "      <td>Portland-Vancouver-Hillsboro</td>\n",
       "      <td>Portland</td>\n",
       "      <td>26</td>\n",
       "      <td>OR</td>\n",
       "    </tr>\n",
       "    <tr>\n",
       "      <th>26</th>\n",
       "      <td>Jacksonville</td>\n",
       "      <td>Jacksonville</td>\n",
       "      <td>27</td>\n",
       "      <td>FL</td>\n",
       "    </tr>\n",
       "    <tr>\n",
       "      <th>27</th>\n",
       "      <td>Indianapolis-Carmel</td>\n",
       "      <td>Indianapolis</td>\n",
       "      <td>28</td>\n",
       "      <td>IN</td>\n",
       "    </tr>\n",
       "    <tr>\n",
       "      <th>28</th>\n",
       "      <td>Kansas City</td>\n",
       "      <td>KansasCity</td>\n",
       "      <td>29</td>\n",
       "      <td>MO</td>\n",
       "    </tr>\n",
       "    <tr>\n",
       "      <th>29</th>\n",
       "      <td>Washington-Arlington-Alexandria</td>\n",
       "      <td>Washington</td>\n",
       "      <td>30</td>\n",
       "      <td>DC</td>\n",
       "    </tr>\n",
       "    <tr>\n",
       "      <th>30</th>\n",
       "      <td>Philadelphia-Camden-Wilmington</td>\n",
       "      <td>Philadelphia</td>\n",
       "      <td>31</td>\n",
       "      <td>PA</td>\n",
       "    </tr>\n",
       "    <tr>\n",
       "      <th>31</th>\n",
       "      <td>Cincinnati-Middletown</td>\n",
       "      <td>Cincinnati</td>\n",
       "      <td>32</td>\n",
       "      <td>OH</td>\n",
       "    </tr>\n",
       "    <tr>\n",
       "      <th>32</th>\n",
       "      <td>Orlando-Kissimmee-Sanford</td>\n",
       "      <td>Orlando</td>\n",
       "      <td>33</td>\n",
       "      <td>FL</td>\n",
       "    </tr>\n",
       "    <tr>\n",
       "      <th>33</th>\n",
       "      <td>Providence-New Bedford-Fall River</td>\n",
       "      <td>Providence</td>\n",
       "      <td>34</td>\n",
       "      <td>RI</td>\n",
       "    </tr>\n",
       "    <tr>\n",
       "      <th>34</th>\n",
       "      <td>Cleveland-Elyria-Mentor</td>\n",
       "      <td>Cleveland</td>\n",
       "      <td>35</td>\n",
       "      <td>OH</td>\n",
       "    </tr>\n",
       "    <tr>\n",
       "      <th>35</th>\n",
       "      <td>Detroit-Warren-Livonia</td>\n",
       "      <td>Detroit</td>\n",
       "      <td>36</td>\n",
       "      <td>MI</td>\n",
       "    </tr>\n",
       "    <tr>\n",
       "      <th>36</th>\n",
       "      <td>Minneapolis-St. Paul-Bloomington</td>\n",
       "      <td>Minneapolis</td>\n",
       "      <td>37</td>\n",
       "      <td>MN</td>\n",
       "    </tr>\n",
       "    <tr>\n",
       "      <th>37</th>\n",
       "      <td>St. Louis</td>\n",
       "      <td>StLouis</td>\n",
       "      <td>38</td>\n",
       "      <td>MO</td>\n",
       "    </tr>\n",
       "    <tr>\n",
       "      <th>38</th>\n",
       "      <td>Milwaukee-Waukesha-West Allis</td>\n",
       "      <td>Milwaukee</td>\n",
       "      <td>39</td>\n",
       "      <td>WI</td>\n",
       "    </tr>\n",
       "    <tr>\n",
       "      <th>39</th>\n",
       "      <td>Pittsburgh</td>\n",
       "      <td>Pittsburgh</td>\n",
       "      <td>40</td>\n",
       "      <td>PA</td>\n",
       "    </tr>\n",
       "  </tbody>\n",
       "</table>\n",
       "</div>"
      ],
      "text/plain": [
       "                             Metro Area Name Metro Area Main City  \\\n",
       "0               Austin-Round Rock-San Marcos               Austin   \n",
       "1        Miami-Fort Lauderdale-Pompano Beach                Miami   \n",
       "2             San Jose-Sunnyvale-Santa Clara              SanJose   \n",
       "3           Los Angeles-Long Beach-Santa Ana           LosAngeles   \n",
       "4                   Denver-Aurora-Broomfield               Denver   \n",
       "5              San Francisco-Oakland-Fremont         SanFrancisco   \n",
       "6   New York-Northern New Jersey-Long Island              NewYork   \n",
       "7                 Houston-Sugar Land-Baytown              Houston   \n",
       "8              San Diego-Carlsbad-San Marcos             SanDiego   \n",
       "9                  San Antonio-New Braunfels           SanAntonio   \n",
       "10                        Las Vegas-Paradise             LasVegas   \n",
       "11                                  Columbus             Columbus   \n",
       "12            Atlanta-Sandy Springs-Marietta              Atlanta   \n",
       "13                     Phoenix-Mesa-Glendale              Phoenix   \n",
       "14               Dallas-Fort Worth-Arlington               Dallas   \n",
       "15                   Seattle-Tacoma-Bellevue              Seattle   \n",
       "16                          Baltimore-Towson            Baltimore   \n",
       "17          Riverside-San Bernardino-Ontario            Riverside   \n",
       "18       Virginia Beach-Norfolk-Newport News        VirginiaBeach   \n",
       "19           Tampa-St. Petersburg-Clearwater                Tampa   \n",
       "20                 Chicago-Joliet-Naperville              Chicago   \n",
       "21                   Boston-Cambridge-Quincy               Boston   \n",
       "22         Sacramento-Arden-Arcade-Roseville           Sacramento   \n",
       "23  Nashville-Davidson-Murfreesboro-Franklin            Nashville   \n",
       "24              Charlotte-Gastonia-Rock Hill            Charlotte   \n",
       "25              Portland-Vancouver-Hillsboro             Portland   \n",
       "26                              Jacksonville         Jacksonville   \n",
       "27                       Indianapolis-Carmel         Indianapolis   \n",
       "28                               Kansas City           KansasCity   \n",
       "29           Washington-Arlington-Alexandria           Washington   \n",
       "30            Philadelphia-Camden-Wilmington         Philadelphia   \n",
       "31                     Cincinnati-Middletown           Cincinnati   \n",
       "32                 Orlando-Kissimmee-Sanford              Orlando   \n",
       "33         Providence-New Bedford-Fall River           Providence   \n",
       "34                   Cleveland-Elyria-Mentor            Cleveland   \n",
       "35                    Detroit-Warren-Livonia              Detroit   \n",
       "36          Minneapolis-St. Paul-Bloomington          Minneapolis   \n",
       "37                                 St. Louis              StLouis   \n",
       "38             Milwaukee-Waukesha-West Allis            Milwaukee   \n",
       "39                                Pittsburgh           Pittsburgh   \n",
       "\n",
       "    Startup Rank Code  \n",
       "0              1   TX  \n",
       "1              2   FL  \n",
       "2              3   CA  \n",
       "3              4   CA  \n",
       "4              5   CO  \n",
       "5              6   CA  \n",
       "6              7   NY  \n",
       "7              8   TX  \n",
       "8              9   CA  \n",
       "9             10   TX  \n",
       "10            11   NV  \n",
       "11            12   OH  \n",
       "12            13   GA  \n",
       "13            14   AZ  \n",
       "14            15   TX  \n",
       "15            16   WA  \n",
       "16            17   MD  \n",
       "17            18   CA  \n",
       "18            19   VA  \n",
       "19            20   FL  \n",
       "20            21   IL  \n",
       "21            22   MA  \n",
       "22            23   CA  \n",
       "23            24   TN  \n",
       "24            25   NC  \n",
       "25            26   OR  \n",
       "26            27   FL  \n",
       "27            28   IN  \n",
       "28            29   MO  \n",
       "29            30   DC  \n",
       "30            31   PA  \n",
       "31            32   OH  \n",
       "32            33   FL  \n",
       "33            34   RI  \n",
       "34            35   OH  \n",
       "35            36   MI  \n",
       "36            37   MN  \n",
       "37            38   MO  \n",
       "38            39   WI  \n",
       "39            40   PA  "
      ]
     },
     "execution_count": 10,
     "metadata": {},
     "output_type": "execute_result"
    }
   ],
   "source": [
    "df = df.sort_values(by = [\"Startup Rank\"], ascending = [True])\n",
    "df = df.reset_index(drop = True)\n",
    "df"
   ]
  },
  {
   "cell_type": "markdown",
   "id": "be78e1c9",
   "metadata": {},
   "source": [
    "### City that has 75th percentile (use `quantile(0.25)` because rank is in ascending order)"
   ]
  },
  {
   "cell_type": "code",
   "execution_count": 11,
   "id": "7216f6a4",
   "metadata": {},
   "outputs": [],
   "source": [
    "tmp = df[\"Startup Rank\"].quantile(0.25)\n",
    "df = df.loc[df[\"Startup Rank\"] < tmp]"
   ]
  },
  {
   "cell_type": "code",
   "execution_count": null,
   "id": "0b9d4ef4",
   "metadata": {},
   "outputs": [],
   "source": [
    "df"
   ]
  },
  {
   "cell_type": "markdown",
   "id": "a5f4072e",
   "metadata": {},
   "source": [
    "### Export the data"
   ]
  },
  {
   "cell_type": "code",
   "execution_count": 13,
   "id": "baa7b73f",
   "metadata": {},
   "outputs": [
    {
     "name": "stdout",
     "output_type": "stream",
     "text": [
      "Export completed\n"
     ]
    }
   ],
   "source": [
    "df.to_csv(\"./dataset/metro_startup_rank.csv\", index = False)\n",
    "print(\"Export completed\")"
   ]
  }
 ],
 "metadata": {
  "kernelspec": {
   "display_name": "Python 3 (ipykernel)",
   "language": "python",
   "name": "python3"
  },
  "language_info": {
   "codemirror_mode": {
    "name": "ipython",
    "version": 3
   },
   "file_extension": ".py",
   "mimetype": "text/x-python",
   "name": "python",
   "nbconvert_exporter": "python",
   "pygments_lexer": "ipython3",
   "version": "3.7.11"
  }
 },
 "nbformat": 4,
 "nbformat_minor": 5
}
