{
 "cells": [
  {
   "cell_type": "markdown",
   "id": "f4a0dcd7",
   "metadata": {},
   "source": [
    "## Merge 3 datasets and finish final product"
   ]
  },
  {
   "cell_type": "markdown",
   "id": "fa0d04ce",
   "metadata": {},
   "source": [
    "### Import libraries"
   ]
  },
  {
   "cell_type": "code",
   "execution_count": 1,
   "id": "885adb57",
   "metadata": {},
   "outputs": [
    {
     "name": "stdout",
     "output_type": "stream",
     "text": [
      "import completed\n"
     ]
    }
   ],
   "source": [
    "import pandas as pd\n",
    "import numpy as np\n",
    "print(\"import completed\")"
   ]
  },
  {
   "cell_type": "markdown",
   "id": "2dfe18d5",
   "metadata": {},
   "source": [
    "### Import datasets"
   ]
  },
  {
   "cell_type": "code",
   "execution_count": 2,
   "id": "5dd4db58",
   "metadata": {},
   "outputs": [],
   "source": [
    "df_crime = pd.read_csv(r\"./dataset/crime.csv\")\n",
    "df_uni = pd.read_csv(r\"./dataset/uni_info.csv\")\n",
    "df_metro = pd.read_csv(r\"./dataset/metro_startup_rank.csv\")"
   ]
  },
  {
   "cell_type": "markdown",
   "id": "be437654",
   "metadata": {},
   "source": [
    "### Preview all datasets"
   ]
  },
  {
   "cell_type": "code",
   "execution_count": 3,
   "id": "2746c2ab",
   "metadata": {},
   "outputs": [
    {
     "data": {
      "text/html": [
       "<div>\n",
       "<style scoped>\n",
       "    .dataframe tbody tr th:only-of-type {\n",
       "        vertical-align: middle;\n",
       "    }\n",
       "\n",
       "    .dataframe tbody tr th {\n",
       "        vertical-align: top;\n",
       "    }\n",
       "\n",
       "    .dataframe thead th {\n",
       "        text-align: right;\n",
       "    }\n",
       "</style>\n",
       "<table border=\"1\" class=\"dataframe\">\n",
       "  <thead>\n",
       "    <tr style=\"text-align: right;\">\n",
       "      <th></th>\n",
       "      <th>MSA</th>\n",
       "      <th>ViolentCrime</th>\n",
       "      <th>Murder</th>\n",
       "      <th>Rape</th>\n",
       "      <th>Robbery</th>\n",
       "      <th>AggravatedAssault</th>\n",
       "      <th>PropertyCrime</th>\n",
       "      <th>Burglary</th>\n",
       "      <th>Theft</th>\n",
       "      <th>MotorVehicleTheft</th>\n",
       "      <th>State</th>\n",
       "      <th>City</th>\n",
       "      <th>TotalCrime</th>\n",
       "    </tr>\n",
       "  </thead>\n",
       "  <tbody>\n",
       "    <tr>\n",
       "      <th>0</th>\n",
       "      <td>Akron, OH M.S.A.</td>\n",
       "      <td>238.4</td>\n",
       "      <td>5.1</td>\n",
       "      <td>38.2</td>\n",
       "      <td>75.2</td>\n",
       "      <td>119.8</td>\n",
       "      <td>2552.4</td>\n",
       "      <td>575.3</td>\n",
       "      <td>1853.0</td>\n",
       "      <td>124.1</td>\n",
       "      <td>OH</td>\n",
       "      <td>Akron</td>\n",
       "      <td>5581.5</td>\n",
       "    </tr>\n",
       "    <tr>\n",
       "      <th>1</th>\n",
       "      <td>Altoona, PA M.S.A.</td>\n",
       "      <td>216.5</td>\n",
       "      <td>0.8</td>\n",
       "      <td>28.7</td>\n",
       "      <td>25.5</td>\n",
       "      <td>161.6</td>\n",
       "      <td>1430.2</td>\n",
       "      <td>218.9</td>\n",
       "      <td>1163.6</td>\n",
       "      <td>47.8</td>\n",
       "      <td>PA</td>\n",
       "      <td>Altoona</td>\n",
       "      <td>3293.6</td>\n",
       "    </tr>\n",
       "    <tr>\n",
       "      <th>2</th>\n",
       "      <td>Ames, IA M.S.A.</td>\n",
       "      <td>158.5</td>\n",
       "      <td>1.0</td>\n",
       "      <td>47.2</td>\n",
       "      <td>19.9</td>\n",
       "      <td>90.3</td>\n",
       "      <td>1848.3</td>\n",
       "      <td>311.7</td>\n",
       "      <td>1462.0</td>\n",
       "      <td>74.5</td>\n",
       "      <td>IA</td>\n",
       "      <td>Ames</td>\n",
       "      <td>4013.4</td>\n",
       "    </tr>\n",
       "    <tr>\n",
       "      <th>3</th>\n",
       "      <td>Ann Arbor, MI M.S.A.</td>\n",
       "      <td>319.5</td>\n",
       "      <td>1.9</td>\n",
       "      <td>57.0</td>\n",
       "      <td>51.4</td>\n",
       "      <td>209.2</td>\n",
       "      <td>1791.9</td>\n",
       "      <td>290.4</td>\n",
       "      <td>1417.4</td>\n",
       "      <td>84.2</td>\n",
       "      <td>MI</td>\n",
       "      <td>AnnArbor</td>\n",
       "      <td>4222.9</td>\n",
       "    </tr>\n",
       "    <tr>\n",
       "      <th>4</th>\n",
       "      <td>Appleton, WI M.S.A.</td>\n",
       "      <td>138.8</td>\n",
       "      <td>0.4</td>\n",
       "      <td>24.1</td>\n",
       "      <td>8.6</td>\n",
       "      <td>105.7</td>\n",
       "      <td>1394.9</td>\n",
       "      <td>206.6</td>\n",
       "      <td>1154.7</td>\n",
       "      <td>33.5</td>\n",
       "      <td>WI</td>\n",
       "      <td>Appleton</td>\n",
       "      <td>3067.3</td>\n",
       "    </tr>\n",
       "  </tbody>\n",
       "</table>\n",
       "</div>"
      ],
      "text/plain": [
       "                    MSA  ViolentCrime  Murder  Rape  Robbery  \\\n",
       "0      Akron, OH M.S.A.         238.4     5.1  38.2     75.2   \n",
       "1    Altoona, PA M.S.A.         216.5     0.8  28.7     25.5   \n",
       "2       Ames, IA M.S.A.         158.5     1.0  47.2     19.9   \n",
       "3  Ann Arbor, MI M.S.A.         319.5     1.9  57.0     51.4   \n",
       "4   Appleton, WI M.S.A.         138.8     0.4  24.1      8.6   \n",
       "\n",
       "   AggravatedAssault  PropertyCrime  Burglary   Theft  MotorVehicleTheft  \\\n",
       "0              119.8         2552.4     575.3  1853.0              124.1   \n",
       "1              161.6         1430.2     218.9  1163.6               47.8   \n",
       "2               90.3         1848.3     311.7  1462.0               74.5   \n",
       "3              209.2         1791.9     290.4  1417.4               84.2   \n",
       "4              105.7         1394.9     206.6  1154.7               33.5   \n",
       "\n",
       "  State      City  TotalCrime  \n",
       "0    OH     Akron      5581.5  \n",
       "1    PA   Altoona      3293.6  \n",
       "2    IA      Ames      4013.4  \n",
       "3    MI  AnnArbor      4222.9  \n",
       "4    WI  Appleton      3067.3  "
      ]
     },
     "execution_count": 3,
     "metadata": {},
     "output_type": "execute_result"
    }
   ],
   "source": [
    "df_crime.head()"
   ]
  },
  {
   "cell_type": "code",
   "execution_count": 4,
   "id": "d3a1e773",
   "metadata": {},
   "outputs": [
    {
     "data": {
      "text/html": [
       "<div>\n",
       "<style scoped>\n",
       "    .dataframe tbody tr th:only-of-type {\n",
       "        vertical-align: middle;\n",
       "    }\n",
       "\n",
       "    .dataframe tbody tr th {\n",
       "        vertical-align: top;\n",
       "    }\n",
       "\n",
       "    .dataframe thead th {\n",
       "        text-align: right;\n",
       "    }\n",
       "</style>\n",
       "<table border=\"1\" class=\"dataframe\">\n",
       "  <thead>\n",
       "    <tr style=\"text-align: right;\">\n",
       "      <th></th>\n",
       "      <th>INSTNM</th>\n",
       "      <th>CITY</th>\n",
       "      <th>STABBR</th>\n",
       "      <th>LOCALE</th>\n",
       "      <th>CIP11ASSOC</th>\n",
       "      <th>CIP11BACHL</th>\n",
       "    </tr>\n",
       "  </thead>\n",
       "  <tbody>\n",
       "    <tr>\n",
       "      <th>0</th>\n",
       "      <td>Alabama A &amp; M University</td>\n",
       "      <td>Normal</td>\n",
       "      <td>AL</td>\n",
       "      <td>12.0</td>\n",
       "      <td>0.0</td>\n",
       "      <td>2.0</td>\n",
       "    </tr>\n",
       "    <tr>\n",
       "      <th>1</th>\n",
       "      <td>University of Alabama at Birmingham</td>\n",
       "      <td>Birmingham</td>\n",
       "      <td>AL</td>\n",
       "      <td>12.0</td>\n",
       "      <td>0.0</td>\n",
       "      <td>2.0</td>\n",
       "    </tr>\n",
       "    <tr>\n",
       "      <th>2</th>\n",
       "      <td>Amridge University</td>\n",
       "      <td>Montgomery</td>\n",
       "      <td>AL</td>\n",
       "      <td>12.0</td>\n",
       "      <td>2.0</td>\n",
       "      <td>2.0</td>\n",
       "    </tr>\n",
       "    <tr>\n",
       "      <th>3</th>\n",
       "      <td>University of Alabama in Huntsville</td>\n",
       "      <td>Huntsville</td>\n",
       "      <td>AL</td>\n",
       "      <td>12.0</td>\n",
       "      <td>0.0</td>\n",
       "      <td>2.0</td>\n",
       "    </tr>\n",
       "    <tr>\n",
       "      <th>4</th>\n",
       "      <td>Alabama State University</td>\n",
       "      <td>Montgomery</td>\n",
       "      <td>AL</td>\n",
       "      <td>12.0</td>\n",
       "      <td>0.0</td>\n",
       "      <td>2.0</td>\n",
       "    </tr>\n",
       "  </tbody>\n",
       "</table>\n",
       "</div>"
      ],
      "text/plain": [
       "                                INSTNM        CITY STABBR  LOCALE  CIP11ASSOC  \\\n",
       "0             Alabama A & M University      Normal     AL    12.0         0.0   \n",
       "1  University of Alabama at Birmingham  Birmingham     AL    12.0         0.0   \n",
       "2                   Amridge University  Montgomery     AL    12.0         2.0   \n",
       "3  University of Alabama in Huntsville  Huntsville     AL    12.0         0.0   \n",
       "4             Alabama State University  Montgomery     AL    12.0         0.0   \n",
       "\n",
       "   CIP11BACHL  \n",
       "0         2.0  \n",
       "1         2.0  \n",
       "2         2.0  \n",
       "3         2.0  \n",
       "4         2.0  "
      ]
     },
     "execution_count": 4,
     "metadata": {},
     "output_type": "execute_result"
    }
   ],
   "source": [
    "df_uni.head()"
   ]
  },
  {
   "cell_type": "code",
   "execution_count": 5,
   "id": "861a731d",
   "metadata": {},
   "outputs": [
    {
     "data": {
      "text/html": [
       "<div>\n",
       "<style scoped>\n",
       "    .dataframe tbody tr th:only-of-type {\n",
       "        vertical-align: middle;\n",
       "    }\n",
       "\n",
       "    .dataframe tbody tr th {\n",
       "        vertical-align: top;\n",
       "    }\n",
       "\n",
       "    .dataframe thead th {\n",
       "        text-align: right;\n",
       "    }\n",
       "</style>\n",
       "<table border=\"1\" class=\"dataframe\">\n",
       "  <thead>\n",
       "    <tr style=\"text-align: right;\">\n",
       "      <th></th>\n",
       "      <th>Metro Area Name</th>\n",
       "      <th>Metro Area Main City</th>\n",
       "      <th>Startup Rank</th>\n",
       "      <th>Code</th>\n",
       "    </tr>\n",
       "  </thead>\n",
       "  <tbody>\n",
       "    <tr>\n",
       "      <th>0</th>\n",
       "      <td>Austin-Round Rock-San Marcos</td>\n",
       "      <td>Austin</td>\n",
       "      <td>1</td>\n",
       "      <td>TX</td>\n",
       "    </tr>\n",
       "    <tr>\n",
       "      <th>1</th>\n",
       "      <td>Miami-Fort Lauderdale-Pompano Beach</td>\n",
       "      <td>Miami</td>\n",
       "      <td>2</td>\n",
       "      <td>FL</td>\n",
       "    </tr>\n",
       "    <tr>\n",
       "      <th>2</th>\n",
       "      <td>San Jose-Sunnyvale-Santa Clara</td>\n",
       "      <td>SanJose</td>\n",
       "      <td>3</td>\n",
       "      <td>CA</td>\n",
       "    </tr>\n",
       "    <tr>\n",
       "      <th>3</th>\n",
       "      <td>Los Angeles-Long Beach-Santa Ana</td>\n",
       "      <td>LosAngeles</td>\n",
       "      <td>4</td>\n",
       "      <td>CA</td>\n",
       "    </tr>\n",
       "    <tr>\n",
       "      <th>4</th>\n",
       "      <td>Denver-Aurora-Broomfield</td>\n",
       "      <td>Denver</td>\n",
       "      <td>5</td>\n",
       "      <td>CO</td>\n",
       "    </tr>\n",
       "  </tbody>\n",
       "</table>\n",
       "</div>"
      ],
      "text/plain": [
       "                       Metro Area Name Metro Area Main City  Startup Rank Code\n",
       "0         Austin-Round Rock-San Marcos               Austin             1   TX\n",
       "1  Miami-Fort Lauderdale-Pompano Beach                Miami             2   FL\n",
       "2       San Jose-Sunnyvale-Santa Clara              SanJose             3   CA\n",
       "3     Los Angeles-Long Beach-Santa Ana           LosAngeles             4   CA\n",
       "4             Denver-Aurora-Broomfield               Denver             5   CO"
      ]
     },
     "execution_count": 5,
     "metadata": {},
     "output_type": "execute_result"
    }
   ],
   "source": [
    "df_metro.head()"
   ]
  },
  {
   "cell_type": "markdown",
   "id": "8fd8e9e7",
   "metadata": {},
   "source": [
    "### Merge datasets (2 datasets each \"merge turn\")"
   ]
  },
  {
   "cell_type": "code",
   "execution_count": 6,
   "id": "168544af",
   "metadata": {},
   "outputs": [],
   "source": [
    "df2 = pd.merge(\n",
    "left = df_metro,\n",
    "right = df_crime,\n",
    "how = \"inner\",\n",
    "left_on = [\"Metro Area Main City\", \"Code\"],\n",
    "right_on = [\"City\", \"State\"]\n",
    ")"
   ]
  },
  {
   "cell_type": "code",
   "execution_count": 7,
   "id": "8e8914a4",
   "metadata": {},
   "outputs": [],
   "source": [
    "df = pd.merge(\n",
    "left = df_uni,\n",
    "right = df2,\n",
    "how = \"inner\",\n",
    "left_on = [\"CITY\", \"STABBR\"],\n",
    "right_on = [\"City\",\"State\"]\n",
    ")"
   ]
  },
  {
   "cell_type": "markdown",
   "id": "dbec34f7",
   "metadata": {},
   "source": [
    "### Drop irrelevant columns to finish final product"
   ]
  },
  {
   "cell_type": "code",
   "execution_count": 8,
   "id": "b4415876",
   "metadata": {},
   "outputs": [],
   "source": [
    "df = df.drop(axis = 1, columns = [\"Metro Area Name\", \"Metro Area Main City\", \"Code\", \"MSA\", \"State\", \"City\"])"
   ]
  },
  {
   "cell_type": "markdown",
   "id": "6e87bebb",
   "metadata": {},
   "source": [
    "### Re-check the product"
   ]
  },
  {
   "cell_type": "code",
   "execution_count": 9,
   "id": "4c247f20",
   "metadata": {},
   "outputs": [
    {
     "name": "stdout",
     "output_type": "stream",
     "text": [
      "<class 'pandas.core.frame.DataFrame'>\n",
      "Int64Index: 48 entries, 0 to 47\n",
      "Data columns (total 17 columns):\n",
      " #   Column             Non-Null Count  Dtype  \n",
      "---  ------             --------------  -----  \n",
      " 0   INSTNM             48 non-null     object \n",
      " 1   CITY               48 non-null     object \n",
      " 2   STABBR             48 non-null     object \n",
      " 3   LOCALE             48 non-null     float64\n",
      " 4   CIP11ASSOC         48 non-null     float64\n",
      " 5   CIP11BACHL         48 non-null     float64\n",
      " 6   Startup Rank       48 non-null     int64  \n",
      " 7   ViolentCrime       48 non-null     float64\n",
      " 8   Murder             48 non-null     float64\n",
      " 9   Rape               48 non-null     float64\n",
      " 10  Robbery            48 non-null     float64\n",
      " 11  AggravatedAssault  48 non-null     float64\n",
      " 12  PropertyCrime      48 non-null     float64\n",
      " 13  Burglary           48 non-null     float64\n",
      " 14  Theft              48 non-null     float64\n",
      " 15  MotorVehicleTheft  48 non-null     float64\n",
      " 16  TotalCrime         48 non-null     float64\n",
      "dtypes: float64(13), int64(1), object(3)\n",
      "memory usage: 6.8+ KB\n"
     ]
    }
   ],
   "source": [
    "df.info()"
   ]
  },
  {
   "cell_type": "markdown",
   "id": "ef44e2bc",
   "metadata": {},
   "source": [
    "### Sort the final product due to requests"
   ]
  },
  {
   "cell_type": "code",
   "execution_count": 10,
   "id": "7839c4d5",
   "metadata": {},
   "outputs": [],
   "source": [
    "df = df.sort_values(by = [\"Startup Rank\", \"TotalCrime\"], ascending = [True, True])"
   ]
  },
  {
   "cell_type": "markdown",
   "id": "aceac6b6",
   "metadata": {},
   "source": [
    "### Export the product to \"\".csv\" file"
   ]
  },
  {
   "cell_type": "code",
   "execution_count": 11,
   "id": "a2f56dbc",
   "metadata": {},
   "outputs": [],
   "source": [
    "df.to_csv(\"./dataset/uni_list.csv\", index = False)"
   ]
  }
 ],
 "metadata": {
  "kernelspec": {
   "display_name": "Python 3 (ipykernel)",
   "language": "python",
   "name": "python3"
  },
  "language_info": {
   "codemirror_mode": {
    "name": "ipython",
    "version": 3
   },
   "file_extension": ".py",
   "mimetype": "text/x-python",
   "name": "python",
   "nbconvert_exporter": "python",
   "pygments_lexer": "ipython3",
   "version": "3.7.11"
  }
 },
 "nbformat": 4,
 "nbformat_minor": 5
}
