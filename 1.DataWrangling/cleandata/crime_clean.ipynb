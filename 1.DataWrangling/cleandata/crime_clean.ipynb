{
 "cells": [
  {
   "cell_type": "markdown",
   "id": "89651fdd",
   "metadata": {},
   "source": [
    "## Clean and normalize \"crime.csv\" dataset\n",
    "\n",
    "> Review through data and clean the set at the basic level before merging"
   ]
  },
  {
   "cell_type": "markdown",
   "id": "3a7a55bf",
   "metadata": {},
   "source": [
    "### Import some useful libraries"
   ]
  },
  {
   "cell_type": "code",
   "execution_count": 1,
   "id": "4d47a339",
   "metadata": {},
   "outputs": [
    {
     "name": "stdout",
     "output_type": "stream",
     "text": [
      "import completed\n"
     ]
    }
   ],
   "source": [
    "import pandas as pd\n",
    "import numpy as np\n",
    "print(\"import completed\")"
   ]
  },
  {
   "cell_type": "markdown",
   "id": "8ea97016",
   "metadata": {},
   "source": [
    "### Import the data from csv file"
   ]
  },
  {
   "cell_type": "code",
   "execution_count": 2,
   "id": "27186de8",
   "metadata": {},
   "outputs": [],
   "source": [
    "df = pd.read_csv(r\"../data/Crime.csv\")"
   ]
  },
  {
   "cell_type": "markdown",
   "id": "4adf5355",
   "metadata": {},
   "source": [
    "### Review data "
   ]
  },
  {
   "cell_type": "markdown",
   "id": "0c9423f9",
   "metadata": {},
   "source": [
    "**1. Review first ten rows**"
   ]
  },
  {
   "cell_type": "code",
   "execution_count": 3,
   "id": "1168d5da",
   "metadata": {},
   "outputs": [
    {
     "name": "stdout",
     "output_type": "stream",
     "text": [
      "                      MSA ViolentCrime  Murder   Rape  Robbery  \\\n",
      "0      Abilene, TX M.S.A.        412.5     5.3   56.0     78.4   \n",
      "1        Akron, OH M.S.A.        238.4     5.1   38.2     75.2   \n",
      "2       Albany, GA M.S.A.        667.9     7.8   30.4    157.9   \n",
      "3       Albany, OR M.S.A.        114.3     2.5   28.2     20.7   \n",
      "4  Albuquerque, NM M.S.A.        792.6     6.1   63.8    206.7   \n",
      "5   Alexandria, LA M.S.A.        936.4     4.5   35.5    120.1   \n",
      "6      Altoona, PA M.S.A.        216.5     0.8   28.7     25.5   \n",
      "7     Amarillo, TX M.S.A.        538.7     3.4   72.0    107.1   \n",
      "8         Ames, IA M.S.A.        158.5     1.0   47.2     19.9   \n",
      "9    Anchorage, AK M.S.A.      1,039.5     8.2  165.6    199.1   \n",
      "\n",
      "   AggravatedAssault PropertyCrime Burglary    Theft  MotorVehicleTheft State  \\\n",
      "0              272.8       3,609.0    852.0  2,493.6              263.4    TX   \n",
      "1              119.8       2,552.4    575.3  1,853.0              124.1    OH   \n",
      "2              471.8       3,894.1  1,099.6  2,652.8              141.7    GA   \n",
      "3               63.0       3,208.4    484.6  2,476.1              247.7    OR   \n",
      "4              516.0       4,607.8    883.4  3,047.6              676.9    NM   \n",
      "5              776.3       4,565.9  1,167.0  3,083.7              315.2    LA   \n",
      "6              161.6       1,430.2    218.9  1,163.6               47.8    PA   \n",
      "7              356.1       3,827.4    763.2  2,743.2              321.0    TX   \n",
      "8               90.3       1,848.3    311.7  1,462.0               74.5    IA   \n",
      "9              666.6       4,030.1    554.9  3,087.5              387.7    AK   \n",
      "\n",
      "          City  \n",
      "0      Abilene  \n",
      "1        Akron  \n",
      "2       Albany  \n",
      "3       Albany  \n",
      "4  Albuquerque  \n",
      "5   Alexandria  \n",
      "6      Altoona  \n",
      "7     Amarillo  \n",
      "8         Ames  \n",
      "9    Anchorage  \n"
     ]
    }
   ],
   "source": [
    "print(df.head(10))"
   ]
  },
  {
   "cell_type": "markdown",
   "id": "5cd7673c",
   "metadata": {},
   "source": [
    "**2. Review numeric columns**"
   ]
  },
  {
   "cell_type": "code",
   "execution_count": 4,
   "id": "cfe7a109",
   "metadata": {},
   "outputs": [
    {
     "name": "stdout",
     "output_type": "stream",
     "text": [
      "(378, 12)\n",
      "           Murder        Rape     Robbery  AggravatedAssault  \\\n",
      "count  378.000000  378.000000  378.000000         377.000000   \n",
      "mean     4.574868   41.306614   77.702646         241.319098   \n",
      "std      3.383652   19.506386   53.977181         137.267225   \n",
      "min      0.000000    2.700000    2.300000          25.500000   \n",
      "25%      2.200000   29.000000   36.625000         144.200000   \n",
      "50%      3.800000   37.550000   67.350000         215.700000   \n",
      "75%      6.275000   51.550000  106.050000         304.900000   \n",
      "max     20.600000  165.600000  351.900000         981.300000   \n",
      "\n",
      "       MotorVehicleTheft  \n",
      "count         378.000000  \n",
      "mean          191.081746  \n",
      "std           134.532918  \n",
      "min            15.700000  \n",
      "25%            97.550000  \n",
      "50%           154.450000  \n",
      "75%           249.650000  \n",
      "max           718.600000  \n"
     ]
    }
   ],
   "source": [
    "print(df.shape)\n",
    "print(df.describe())"
   ]
  },
  {
   "cell_type": "markdown",
   "id": "72ee02a5",
   "metadata": {},
   "source": [
    "**3. Review basic info for all columns**"
   ]
  },
  {
   "cell_type": "code",
   "execution_count": 5,
   "id": "62d74e49",
   "metadata": {},
   "outputs": [
    {
     "name": "stdout",
     "output_type": "stream",
     "text": [
      "<class 'pandas.core.frame.DataFrame'>\n",
      "RangeIndex: 378 entries, 0 to 377\n",
      "Data columns (total 12 columns):\n",
      " #   Column             Non-Null Count  Dtype  \n",
      "---  ------             --------------  -----  \n",
      " 0   MSA                378 non-null    object \n",
      " 1   ViolentCrime       377 non-null    object \n",
      " 2   Murder             378 non-null    float64\n",
      " 3   Rape               378 non-null    float64\n",
      " 4   Robbery            378 non-null    float64\n",
      " 5   AggravatedAssault  377 non-null    float64\n",
      " 6   PropertyCrime      372 non-null    object \n",
      " 7   Burglary           374 non-null    object \n",
      " 8   Theft              375 non-null    object \n",
      " 9   MotorVehicleTheft  378 non-null    float64\n",
      " 10  State              378 non-null    object \n",
      " 11  City               373 non-null    object \n",
      "dtypes: float64(5), object(7)\n",
      "memory usage: 35.6+ KB\n",
      "None\n"
     ]
    }
   ],
   "source": [
    "print(df.info())"
   ]
  },
  {
   "cell_type": "markdown",
   "id": "9f2def80",
   "metadata": {},
   "source": [
    "**4. check for duplication**"
   ]
  },
  {
   "cell_type": "code",
   "execution_count": 6,
   "id": "8ef2c549",
   "metadata": {},
   "outputs": [
    {
     "name": "stdout",
     "output_type": "stream",
     "text": [
      "Empty DataFrame\n",
      "Columns: [MSA, ViolentCrime, Murder, Rape, Robbery, AggravatedAssault, PropertyCrime, Burglary, Theft, MotorVehicleTheft, State, City]\n",
      "Index: []\n"
     ]
    }
   ],
   "source": [
    "dup = df.duplicated()\n",
    "duprow = df[dup]\n",
    "print(duprow)"
   ]
  },
  {
   "cell_type": "markdown",
   "id": "e45db816",
   "metadata": {},
   "source": [
    "**5. Check for missing values**"
   ]
  },
  {
   "cell_type": "markdown",
   "id": "f2f60ae7",
   "metadata": {},
   "source": [
    "- find the number of null values in each column"
   ]
  },
  {
   "cell_type": "code",
   "execution_count": 7,
   "id": "0ed1bc1e",
   "metadata": {},
   "outputs": [
    {
     "name": "stdout",
     "output_type": "stream",
     "text": [
      "MSA                  0\n",
      "ViolentCrime         1\n",
      "Murder               0\n",
      "Rape                 0\n",
      "Robbery              0\n",
      "AggravatedAssault    1\n",
      "PropertyCrime        6\n",
      "Burglary             4\n",
      "Theft                3\n",
      "MotorVehicleTheft    0\n",
      "State                0\n",
      "City                 5\n",
      "dtype: int64\n"
     ]
    }
   ],
   "source": [
    "print(df.isnull().sum())"
   ]
  },
  {
   "cell_type": "markdown",
   "id": "5b9b44aa",
   "metadata": {},
   "source": [
    "- review columns with null data"
   ]
  },
  {
   "cell_type": "code",
   "execution_count": 8,
   "id": "a56f58d9",
   "metadata": {},
   "outputs": [
    {
     "data": {
      "text/html": [
       "<div>\n",
       "<style scoped>\n",
       "    .dataframe tbody tr th:only-of-type {\n",
       "        vertical-align: middle;\n",
       "    }\n",
       "\n",
       "    .dataframe tbody tr th {\n",
       "        vertical-align: top;\n",
       "    }\n",
       "\n",
       "    .dataframe thead th {\n",
       "        text-align: right;\n",
       "    }\n",
       "</style>\n",
       "<table border=\"1\" class=\"dataframe\">\n",
       "  <thead>\n",
       "    <tr style=\"text-align: right;\">\n",
       "      <th></th>\n",
       "      <th>MSA</th>\n",
       "      <th>ViolentCrime</th>\n",
       "      <th>Murder</th>\n",
       "      <th>Rape</th>\n",
       "      <th>Robbery</th>\n",
       "      <th>AggravatedAssault</th>\n",
       "      <th>PropertyCrime</th>\n",
       "      <th>Burglary</th>\n",
       "      <th>Theft</th>\n",
       "      <th>MotorVehicleTheft</th>\n",
       "      <th>State</th>\n",
       "      <th>City</th>\n",
       "    </tr>\n",
       "  </thead>\n",
       "  <tbody>\n",
       "    <tr>\n",
       "      <th>21</th>\n",
       "      <td>Barnstable Town, MA M.S.A.</td>\n",
       "      <td>518.7</td>\n",
       "      <td>1.4</td>\n",
       "      <td>49.4</td>\n",
       "      <td>28.9</td>\n",
       "      <td>439.1</td>\n",
       "      <td>1,722.5</td>\n",
       "      <td>475.9</td>\n",
       "      <td>1,170.7</td>\n",
       "      <td>75.9</td>\n",
       "      <td>MA</td>\n",
       "      <td>NaN</td>\n",
       "    </tr>\n",
       "    <tr>\n",
       "      <th>37</th>\n",
       "      <td>Boulder, CO M.S.A.3</td>\n",
       "      <td>NaN</td>\n",
       "      <td>0.9</td>\n",
       "      <td>67.4</td>\n",
       "      <td>22.6</td>\n",
       "      <td>NaN</td>\n",
       "      <td>2,134.8</td>\n",
       "      <td>331.0</td>\n",
       "      <td>1,689.0</td>\n",
       "      <td>114.7</td>\n",
       "      <td>CO</td>\n",
       "      <td>Boulder</td>\n",
       "    </tr>\n",
       "    <tr>\n",
       "      <th>91</th>\n",
       "      <td>Denver-Aurora-Lakewood, CO M.S.A.3, 4</td>\n",
       "      <td>362.3</td>\n",
       "      <td>3.8</td>\n",
       "      <td>63.6</td>\n",
       "      <td>84.8</td>\n",
       "      <td>210.0</td>\n",
       "      <td>NaN</td>\n",
       "      <td>NaN</td>\n",
       "      <td>NaN</td>\n",
       "      <td>388.3</td>\n",
       "      <td>CO</td>\n",
       "      <td>Denver</td>\n",
       "    </tr>\n",
       "    <tr>\n",
       "      <th>126</th>\n",
       "      <td>Glens Falls, NY M.S.A.4</td>\n",
       "      <td>170.5</td>\n",
       "      <td>0.8</td>\n",
       "      <td>67.9</td>\n",
       "      <td>9.5</td>\n",
       "      <td>92.4</td>\n",
       "      <td>NaN</td>\n",
       "      <td>173.7</td>\n",
       "      <td>NaN</td>\n",
       "      <td>21.3</td>\n",
       "      <td>NY</td>\n",
       "      <td>Glens Falls</td>\n",
       "    </tr>\n",
       "    <tr>\n",
       "      <th>146</th>\n",
       "      <td>Hinesville, GA M.S.A.</td>\n",
       "      <td>304.4</td>\n",
       "      <td>1.2</td>\n",
       "      <td>10.7</td>\n",
       "      <td>60.9</td>\n",
       "      <td>231.6</td>\n",
       "      <td>2,270.3</td>\n",
       "      <td>490.6</td>\n",
       "      <td>1,656.8</td>\n",
       "      <td>122.9</td>\n",
       "      <td>GA</td>\n",
       "      <td>NaN</td>\n",
       "    </tr>\n",
       "    <tr>\n",
       "      <th>149</th>\n",
       "      <td>Houston-The Woodlands-Sugar Land, TX M.S.A.3</td>\n",
       "      <td>566.6</td>\n",
       "      <td>6.9</td>\n",
       "      <td>37.3</td>\n",
       "      <td>228.9</td>\n",
       "      <td>293.5</td>\n",
       "      <td>NaN</td>\n",
       "      <td>596.8</td>\n",
       "      <td>NaN</td>\n",
       "      <td>367.2</td>\n",
       "      <td>TX</td>\n",
       "      <td>Houston</td>\n",
       "    </tr>\n",
       "    <tr>\n",
       "      <th>244</th>\n",
       "      <td>Ogden-Clearfield, UT M.S.A.2, 3</td>\n",
       "      <td>157.6</td>\n",
       "      <td>2.3</td>\n",
       "      <td>52.1</td>\n",
       "      <td>25.5</td>\n",
       "      <td>77.6</td>\n",
       "      <td>NaN</td>\n",
       "      <td>NaN</td>\n",
       "      <td>1,682.2</td>\n",
       "      <td>145.5</td>\n",
       "      <td>UT</td>\n",
       "      <td>Ogden</td>\n",
       "    </tr>\n",
       "    <tr>\n",
       "      <th>273</th>\n",
       "      <td>Punta Gorda, FL M.S.A.</td>\n",
       "      <td>202.2</td>\n",
       "      <td>0.6</td>\n",
       "      <td>18.1</td>\n",
       "      <td>17.5</td>\n",
       "      <td>166.1</td>\n",
       "      <td>1,509.5</td>\n",
       "      <td>242.4</td>\n",
       "      <td>1,202.9</td>\n",
       "      <td>64.1</td>\n",
       "      <td>FL</td>\n",
       "      <td>NaN</td>\n",
       "    </tr>\n",
       "    <tr>\n",
       "      <th>292</th>\n",
       "      <td>Salt Lake City, UT M.S.A.</td>\n",
       "      <td>392.2</td>\n",
       "      <td>2.6</td>\n",
       "      <td>71.6</td>\n",
       "      <td>91.5</td>\n",
       "      <td>226.5</td>\n",
       "      <td>NaN</td>\n",
       "      <td>NaN</td>\n",
       "      <td>3,574.9</td>\n",
       "      <td>565.2</td>\n",
       "      <td>UT</td>\n",
       "      <td>Salt Lake City</td>\n",
       "    </tr>\n",
       "    <tr>\n",
       "      <th>310</th>\n",
       "      <td>Sebring, FL M.S.A.</td>\n",
       "      <td>341.7</td>\n",
       "      <td>5.1</td>\n",
       "      <td>38.5</td>\n",
       "      <td>56.8</td>\n",
       "      <td>241.3</td>\n",
       "      <td>2,739.4</td>\n",
       "      <td>633.6</td>\n",
       "      <td>1,994.2</td>\n",
       "      <td>111.5</td>\n",
       "      <td>FL</td>\n",
       "      <td>NaN</td>\n",
       "    </tr>\n",
       "    <tr>\n",
       "      <th>311</th>\n",
       "      <td>Sheboygan, WI M.S.A.</td>\n",
       "      <td>174.5</td>\n",
       "      <td>2.6</td>\n",
       "      <td>26.0</td>\n",
       "      <td>16.5</td>\n",
       "      <td>129.4</td>\n",
       "      <td>1,569.7</td>\n",
       "      <td>159.7</td>\n",
       "      <td>1,363.9</td>\n",
       "      <td>46.0</td>\n",
       "      <td>WI</td>\n",
       "      <td>NaN</td>\n",
       "    </tr>\n",
       "    <tr>\n",
       "      <th>361</th>\n",
       "      <td>Wichita, KS M.S.A.6</td>\n",
       "      <td>673.2</td>\n",
       "      <td>4.7</td>\n",
       "      <td>66.6</td>\n",
       "      <td>118.8</td>\n",
       "      <td>483.1</td>\n",
       "      <td>NaN</td>\n",
       "      <td>NaN</td>\n",
       "      <td>2,712.2</td>\n",
       "      <td>360.6</td>\n",
       "      <td>KS</td>\n",
       "      <td>Wichita</td>\n",
       "    </tr>\n",
       "  </tbody>\n",
       "</table>\n",
       "</div>"
      ],
      "text/plain": [
       "                                              MSA ViolentCrime  Murder  Rape  \\\n",
       "21                     Barnstable Town, MA M.S.A.        518.7     1.4  49.4   \n",
       "37                            Boulder, CO M.S.A.3          NaN     0.9  67.4   \n",
       "91          Denver-Aurora-Lakewood, CO M.S.A.3, 4        362.3     3.8  63.6   \n",
       "126                       Glens Falls, NY M.S.A.4        170.5     0.8  67.9   \n",
       "146                         Hinesville, GA M.S.A.        304.4     1.2  10.7   \n",
       "149  Houston-The Woodlands-Sugar Land, TX M.S.A.3        566.6     6.9  37.3   \n",
       "244               Ogden-Clearfield, UT M.S.A.2, 3        157.6     2.3  52.1   \n",
       "273                        Punta Gorda, FL M.S.A.        202.2     0.6  18.1   \n",
       "292                     Salt Lake City, UT M.S.A.        392.2     2.6  71.6   \n",
       "310                            Sebring, FL M.S.A.        341.7     5.1  38.5   \n",
       "311                          Sheboygan, WI M.S.A.        174.5     2.6  26.0   \n",
       "361                           Wichita, KS M.S.A.6        673.2     4.7  66.6   \n",
       "\n",
       "     Robbery  AggravatedAssault PropertyCrime Burglary    Theft  \\\n",
       "21      28.9              439.1       1,722.5    475.9  1,170.7   \n",
       "37      22.6                NaN       2,134.8    331.0  1,689.0   \n",
       "91      84.8              210.0           NaN      NaN      NaN   \n",
       "126      9.5               92.4           NaN    173.7      NaN   \n",
       "146     60.9              231.6       2,270.3    490.6  1,656.8   \n",
       "149    228.9              293.5           NaN    596.8      NaN   \n",
       "244     25.5               77.6           NaN      NaN  1,682.2   \n",
       "273     17.5              166.1       1,509.5    242.4  1,202.9   \n",
       "292     91.5              226.5           NaN      NaN  3,574.9   \n",
       "310     56.8              241.3       2,739.4    633.6  1,994.2   \n",
       "311     16.5              129.4       1,569.7    159.7  1,363.9   \n",
       "361    118.8              483.1           NaN      NaN  2,712.2   \n",
       "\n",
       "     MotorVehicleTheft State            City  \n",
       "21                75.9    MA             NaN  \n",
       "37               114.7    CO         Boulder  \n",
       "91               388.3    CO          Denver  \n",
       "126               21.3    NY     Glens Falls  \n",
       "146              122.9    GA             NaN  \n",
       "149              367.2    TX         Houston  \n",
       "244              145.5    UT           Ogden  \n",
       "273               64.1    FL             NaN  \n",
       "292              565.2    UT  Salt Lake City  \n",
       "310              111.5    FL             NaN  \n",
       "311               46.0    WI             NaN  \n",
       "361              360.6    KS         Wichita  "
      ]
     },
     "execution_count": 8,
     "metadata": {},
     "output_type": "execute_result"
    }
   ],
   "source": [
    "dataNull = df.isnull()\n",
    "rowNull = dataNull.any(axis = 1)\n",
    "df[rowNull]"
   ]
  },
  {
   "cell_type": "markdown",
   "id": "f88faf7f",
   "metadata": {},
   "source": [
    "- use online research to fill null data in \"city\" column manually (because there are only few rows that are need) "
   ]
  },
  {
   "cell_type": "code",
   "execution_count": 9,
   "id": "78cee1fa",
   "metadata": {},
   "outputs": [],
   "source": [
    "df.iloc[21, 11] = \"Barnstable\"\n",
    "df.iloc[146, 11] = \"Hinesville\"\n",
    "df.iloc[273, 11] = \"Punta Gorda\"\n",
    "df.iloc[310, 11] = \"Sebring\"\n",
    "df.iloc[311, 11] = \"Sheboygan\"\n",
    "df.iloc[91, 6] = 2800.6\n",
    "df.iloc[91, 7] = 449.45\n",
    "df.iloc[91, 8] = 1973.45\n",
    "df.iloc[149, 6] = 3065.95\n",
    "df.iloc[149, 8] = 2083.85"
   ]
  },
  {
   "cell_type": "markdown",
   "id": "3b767f24",
   "metadata": {},
   "source": [
    "**6. Review \"State\" column**"
   ]
  },
  {
   "cell_type": "markdown",
   "id": "642b3a56",
   "metadata": {},
   "source": [
    "- all unique values match with data in \"two-letter states abbreviations\""
   ]
  },
  {
   "cell_type": "code",
   "execution_count": 10,
   "id": "25fe3a59",
   "metadata": {},
   "outputs": [
    {
     "name": "stdout",
     "output_type": "stream",
     "text": [
      "['TX' 'OH' 'GA' 'OR' 'NM' 'LA' 'PA' 'IA' 'AK' 'MI' 'AL' 'WI' 'NC' 'NJ'\n",
      " 'CA' 'MD' 'ME' 'MA' 'WV' 'WA' 'MT' 'NY' 'ND' 'IL' 'IN' 'ID' 'CO' 'KY'\n",
      " 'CT' 'VT' 'FL' 'MO' 'NV' 'WY' 'SC' 'VA' 'TN' 'DE' 'MN' 'OK' 'AZ' 'AR'\n",
      " 'NE' 'MS' 'HI' 'UT' 'NH' 'KS' 'RI' 'SD' 'DC'\n",
      " 'Aguadilla-Isabela, Puerto Rico M.S.A.' 'Arecibo, Puerto Rico M.S.A.'\n",
      " 'Guayama, Puerto Rico M.S.A.' 'Mayaguez, Puerto Rico M.S.A.'\n",
      " 'Ponce, Puerto Rico M.S.A.' 'San German, Puerto Rico M.S.A.'\n",
      " 'San Juan-Carolina-Caguas, Puerto Rico M.S.A.']\n"
     ]
    }
   ],
   "source": [
    "print(df[\"State\"].unique())"
   ]
  },
  {
   "cell_type": "code",
   "execution_count": 11,
   "id": "fdf00489",
   "metadata": {},
   "outputs": [
    {
     "data": {
      "text/html": [
       "<div>\n",
       "<style scoped>\n",
       "    .dataframe tbody tr th:only-of-type {\n",
       "        vertical-align: middle;\n",
       "    }\n",
       "\n",
       "    .dataframe tbody tr th {\n",
       "        vertical-align: top;\n",
       "    }\n",
       "\n",
       "    .dataframe thead th {\n",
       "        text-align: right;\n",
       "    }\n",
       "</style>\n",
       "<table border=\"1\" class=\"dataframe\">\n",
       "  <thead>\n",
       "    <tr style=\"text-align: right;\">\n",
       "      <th></th>\n",
       "      <th>MSA</th>\n",
       "      <th>ViolentCrime</th>\n",
       "      <th>Murder</th>\n",
       "      <th>Rape</th>\n",
       "      <th>Robbery</th>\n",
       "      <th>AggravatedAssault</th>\n",
       "      <th>PropertyCrime</th>\n",
       "      <th>Burglary</th>\n",
       "      <th>Theft</th>\n",
       "      <th>MotorVehicleTheft</th>\n",
       "      <th>State</th>\n",
       "      <th>City</th>\n",
       "    </tr>\n",
       "  </thead>\n",
       "  <tbody>\n",
       "    <tr>\n",
       "      <th>0</th>\n",
       "      <td>Abilene, TX M.S.A.</td>\n",
       "      <td>412.5</td>\n",
       "      <td>5.3</td>\n",
       "      <td>56.0</td>\n",
       "      <td>78.4</td>\n",
       "      <td>272.8</td>\n",
       "      <td>3,609.0</td>\n",
       "      <td>852.0</td>\n",
       "      <td>2,493.6</td>\n",
       "      <td>263.4</td>\n",
       "      <td>TX</td>\n",
       "      <td>Abilene</td>\n",
       "    </tr>\n",
       "    <tr>\n",
       "      <th>1</th>\n",
       "      <td>Akron, OH M.S.A.</td>\n",
       "      <td>238.4</td>\n",
       "      <td>5.1</td>\n",
       "      <td>38.2</td>\n",
       "      <td>75.2</td>\n",
       "      <td>119.8</td>\n",
       "      <td>2,552.4</td>\n",
       "      <td>575.3</td>\n",
       "      <td>1,853.0</td>\n",
       "      <td>124.1</td>\n",
       "      <td>OH</td>\n",
       "      <td>Akron</td>\n",
       "    </tr>\n",
       "    <tr>\n",
       "      <th>2</th>\n",
       "      <td>Albany, GA M.S.A.</td>\n",
       "      <td>667.9</td>\n",
       "      <td>7.8</td>\n",
       "      <td>30.4</td>\n",
       "      <td>157.9</td>\n",
       "      <td>471.8</td>\n",
       "      <td>3,894.1</td>\n",
       "      <td>1,099.6</td>\n",
       "      <td>2,652.8</td>\n",
       "      <td>141.7</td>\n",
       "      <td>GA</td>\n",
       "      <td>Albany</td>\n",
       "    </tr>\n",
       "    <tr>\n",
       "      <th>3</th>\n",
       "      <td>Albany, OR M.S.A.</td>\n",
       "      <td>114.3</td>\n",
       "      <td>2.5</td>\n",
       "      <td>28.2</td>\n",
       "      <td>20.7</td>\n",
       "      <td>63.0</td>\n",
       "      <td>3,208.4</td>\n",
       "      <td>484.6</td>\n",
       "      <td>2,476.1</td>\n",
       "      <td>247.7</td>\n",
       "      <td>OR</td>\n",
       "      <td>Albany</td>\n",
       "    </tr>\n",
       "    <tr>\n",
       "      <th>4</th>\n",
       "      <td>Albuquerque, NM M.S.A.</td>\n",
       "      <td>792.6</td>\n",
       "      <td>6.1</td>\n",
       "      <td>63.8</td>\n",
       "      <td>206.7</td>\n",
       "      <td>516.0</td>\n",
       "      <td>4,607.8</td>\n",
       "      <td>883.4</td>\n",
       "      <td>3,047.6</td>\n",
       "      <td>676.9</td>\n",
       "      <td>NM</td>\n",
       "      <td>Albuquerque</td>\n",
       "    </tr>\n",
       "    <tr>\n",
       "      <th>...</th>\n",
       "      <td>...</td>\n",
       "      <td>...</td>\n",
       "      <td>...</td>\n",
       "      <td>...</td>\n",
       "      <td>...</td>\n",
       "      <td>...</td>\n",
       "      <td>...</td>\n",
       "      <td>...</td>\n",
       "      <td>...</td>\n",
       "      <td>...</td>\n",
       "      <td>...</td>\n",
       "      <td>...</td>\n",
       "    </tr>\n",
       "    <tr>\n",
       "      <th>373</th>\n",
       "      <td>Guayama, Puerto Rico M.S.A.</td>\n",
       "      <td>251.6</td>\n",
       "      <td>11.4</td>\n",
       "      <td>6.3</td>\n",
       "      <td>74.6</td>\n",
       "      <td>159.3</td>\n",
       "      <td>823.2</td>\n",
       "      <td>265.5</td>\n",
       "      <td>531.1</td>\n",
       "      <td>26.6</td>\n",
       "      <td>Guayama, Puerto Rico M.S.A.</td>\n",
       "      <td>Guayama</td>\n",
       "    </tr>\n",
       "    <tr>\n",
       "      <th>374</th>\n",
       "      <td>Mayaguez, Puerto Rico M.S.A.</td>\n",
       "      <td>237.5</td>\n",
       "      <td>11.5</td>\n",
       "      <td>5.2</td>\n",
       "      <td>82.3</td>\n",
       "      <td>138.6</td>\n",
       "      <td>1,320.0</td>\n",
       "      <td>377.1</td>\n",
       "      <td>861.6</td>\n",
       "      <td>81.3</td>\n",
       "      <td>Mayaguez, Puerto Rico M.S.A.</td>\n",
       "      <td>Mayaguez</td>\n",
       "    </tr>\n",
       "    <tr>\n",
       "      <th>375</th>\n",
       "      <td>Ponce, Puerto Rico M.S.A.</td>\n",
       "      <td>231.4</td>\n",
       "      <td>18.0</td>\n",
       "      <td>5.0</td>\n",
       "      <td>66.2</td>\n",
       "      <td>142.2</td>\n",
       "      <td>885.0</td>\n",
       "      <td>214.4</td>\n",
       "      <td>632.4</td>\n",
       "      <td>38.1</td>\n",
       "      <td>Ponce, Puerto Rico M.S.A.</td>\n",
       "      <td>Ponce</td>\n",
       "    </tr>\n",
       "    <tr>\n",
       "      <th>376</th>\n",
       "      <td>San German, Puerto Rico M.S.A.</td>\n",
       "      <td>92.1</td>\n",
       "      <td>5.4</td>\n",
       "      <td>4.6</td>\n",
       "      <td>16.1</td>\n",
       "      <td>66.0</td>\n",
       "      <td>420.0</td>\n",
       "      <td>168.9</td>\n",
       "      <td>226.5</td>\n",
       "      <td>24.6</td>\n",
       "      <td>San German, Puerto Rico M.S.A.</td>\n",
       "      <td>San German</td>\n",
       "    </tr>\n",
       "    <tr>\n",
       "      <th>377</th>\n",
       "      <td>San Juan-Carolina-Caguas, Puerto Rico M.S.A.</td>\n",
       "      <td>262.0</td>\n",
       "      <td>20.6</td>\n",
       "      <td>4.9</td>\n",
       "      <td>157.8</td>\n",
       "      <td>78.7</td>\n",
       "      <td>1,281.2</td>\n",
       "      <td>281.8</td>\n",
       "      <td>835.0</td>\n",
       "      <td>164.3</td>\n",
       "      <td>San Juan-Carolina-Caguas, Puerto Rico M.S.A.</td>\n",
       "      <td>San Juan</td>\n",
       "    </tr>\n",
       "  </tbody>\n",
       "</table>\n",
       "<p>378 rows × 12 columns</p>\n",
       "</div>"
      ],
      "text/plain": [
       "                                              MSA ViolentCrime  Murder  Rape  \\\n",
       "0                              Abilene, TX M.S.A.        412.5     5.3  56.0   \n",
       "1                                Akron, OH M.S.A.        238.4     5.1  38.2   \n",
       "2                               Albany, GA M.S.A.        667.9     7.8  30.4   \n",
       "3                               Albany, OR M.S.A.        114.3     2.5  28.2   \n",
       "4                          Albuquerque, NM M.S.A.        792.6     6.1  63.8   \n",
       "..                                            ...          ...     ...   ...   \n",
       "373                   Guayama, Puerto Rico M.S.A.        251.6    11.4   6.3   \n",
       "374                  Mayaguez, Puerto Rico M.S.A.        237.5    11.5   5.2   \n",
       "375                     Ponce, Puerto Rico M.S.A.        231.4    18.0   5.0   \n",
       "376                San German, Puerto Rico M.S.A.         92.1     5.4   4.6   \n",
       "377  San Juan-Carolina-Caguas, Puerto Rico M.S.A.        262.0    20.6   4.9   \n",
       "\n",
       "     Robbery  AggravatedAssault PropertyCrime Burglary    Theft  \\\n",
       "0       78.4              272.8       3,609.0    852.0  2,493.6   \n",
       "1       75.2              119.8       2,552.4    575.3  1,853.0   \n",
       "2      157.9              471.8       3,894.1  1,099.6  2,652.8   \n",
       "3       20.7               63.0       3,208.4    484.6  2,476.1   \n",
       "4      206.7              516.0       4,607.8    883.4  3,047.6   \n",
       "..       ...                ...           ...      ...      ...   \n",
       "373     74.6              159.3         823.2    265.5    531.1   \n",
       "374     82.3              138.6       1,320.0    377.1    861.6   \n",
       "375     66.2              142.2         885.0    214.4    632.4   \n",
       "376     16.1               66.0         420.0    168.9    226.5   \n",
       "377    157.8               78.7       1,281.2    281.8    835.0   \n",
       "\n",
       "     MotorVehicleTheft                                         State  \\\n",
       "0                263.4                                            TX   \n",
       "1                124.1                                            OH   \n",
       "2                141.7                                            GA   \n",
       "3                247.7                                            OR   \n",
       "4                676.9                                            NM   \n",
       "..                 ...                                           ...   \n",
       "373               26.6                   Guayama, Puerto Rico M.S.A.   \n",
       "374               81.3                  Mayaguez, Puerto Rico M.S.A.   \n",
       "375               38.1                     Ponce, Puerto Rico M.S.A.   \n",
       "376               24.6                San German, Puerto Rico M.S.A.   \n",
       "377              164.3  San Juan-Carolina-Caguas, Puerto Rico M.S.A.   \n",
       "\n",
       "            City  \n",
       "0        Abilene  \n",
       "1          Akron  \n",
       "2         Albany  \n",
       "3         Albany  \n",
       "4    Albuquerque  \n",
       "..           ...  \n",
       "373      Guayama  \n",
       "374     Mayaguez  \n",
       "375        Ponce  \n",
       "376   San German  \n",
       "377     San Juan  \n",
       "\n",
       "[378 rows x 12 columns]"
      ]
     },
     "execution_count": 11,
     "metadata": {},
     "output_type": "execute_result"
    }
   ],
   "source": [
    "df"
   ]
  },
  {
   "cell_type": "markdown",
   "id": "b9ffce16",
   "metadata": {},
   "source": [
    "**7. Use the same word formats for all table**"
   ]
  },
  {
   "cell_type": "markdown",
   "id": "5330ab2a",
   "metadata": {},
   "source": [
    "- Check other datasets and change city-name format "
   ]
  },
  {
   "cell_type": "code",
   "execution_count": 12,
   "id": "31747674",
   "metadata": {},
   "outputs": [],
   "source": [
    "for x in range(378):\n",
    "    tmp = df.loc[x, \"City\"].split(\" \")\n",
    "    res = \"\"\n",
    "    res = res.join(tmp)\n",
    "    df.loc[x, \"City\"] = res\n",
    "for x in range(378):\n",
    "    tmp = df.loc[x, \"City\"].split(\".\")\n",
    "    res = \"\"\n",
    "    res = res.join(tmp)\n",
    "    df.loc[x, \"City\"] = res"
   ]
  },
  {
   "cell_type": "markdown",
   "id": "8aecccdf",
   "metadata": {},
   "source": [
    "- replace some columns that have false datatype and change it back properly"
   ]
  },
  {
   "cell_type": "code",
   "execution_count": 13,
   "id": "44182fae",
   "metadata": {},
   "outputs": [],
   "source": [
    "df['ViolentCrime'] = df['ViolentCrime'].astype('str')\n",
    "df['PropertyCrime'] = df['PropertyCrime'].astype('str')\n",
    "df['Burglary'] = df['Burglary'].astype('str')\n",
    "df['Theft'] = df['Theft'].astype('str')\n",
    "for x in range(378):\n",
    "    tmp = df.loc[x, \"ViolentCrime\"].replace(\",\",\"\")\n",
    "    df.loc[x, \"ViolentCrime\"] = tmp\n",
    "    tmp = df.loc[x, \"PropertyCrime\"].replace(\",\",\"\")\n",
    "    df.loc[x, \"PropertyCrime\"] = tmp\n",
    "    tmp = df.loc[x, \"Burglary\"].replace(\",\",\"\")\n",
    "    df.loc[x, \"Burglary\"] = tmp\n",
    "    tmp = df.loc[x, \"Theft\"].replace(\",\",\"\")\n",
    "    df.loc[x, \"Theft\"] = tmp\n",
    "df['ViolentCrime'] = df['ViolentCrime'].astype('float64')\n",
    "df['PropertyCrime'] = df['PropertyCrime'].astype('float64')\n",
    "df['Burglary'] = df['Burglary'].astype('float64')\n",
    "df['Theft'] = df['Theft'].astype('float64')\n",
    "df = df.dropna(axis = 0, how = \"any\")\n",
    "df = df.reset_index(drop = True)"
   ]
  },
  {
   "cell_type": "markdown",
   "id": "58e4cc8b",
   "metadata": {},
   "source": [
    "### Calculate 50th percentile of total crime"
   ]
  },
  {
   "cell_type": "code",
   "execution_count": 14,
   "id": "eb99dce8",
   "metadata": {},
   "outputs": [],
   "source": [
    "sum_column = df[\"ViolentCrime\"] + df[\"Murder\"] + df[\"Rape\"] + df[\"Robbery\"] + df[\"AggravatedAssault\"] + df[\"PropertyCrime\"] + df[\"Burglary\"] + df[\"Theft\"] + df[\"MotorVehicleTheft\"]\n",
    "df[\"TotalCrime\"] = sum_column\n",
    "res = df[\"TotalCrime\"].quantile(0.5)\n",
    "df = df.loc[df[\"TotalCrime\"] < res]"
   ]
  },
  {
   "cell_type": "markdown",
   "id": "1ed8e5c1",
   "metadata": {},
   "source": [
    "### Export data"
   ]
  },
  {
   "cell_type": "code",
   "execution_count": 15,
   "id": "215f80be",
   "metadata": {},
   "outputs": [
    {
     "name": "stdout",
     "output_type": "stream",
     "text": [
      "Export completed\n"
     ]
    }
   ],
   "source": [
    "df.to_csv(r\"./dataset/crime.csv\", index = False)\n",
    "print(\"Export completed\")"
   ]
  }
 ],
 "metadata": {
  "kernelspec": {
   "display_name": "Python 3 (ipykernel)",
   "language": "python",
   "name": "python3"
  },
  "language_info": {
   "codemirror_mode": {
    "name": "ipython",
    "version": 3
   },
   "file_extension": ".py",
   "mimetype": "text/x-python",
   "name": "python",
   "nbconvert_exporter": "python",
   "pygments_lexer": "ipython3",
   "version": "3.7.11"
  }
 },
 "nbformat": 4,
 "nbformat_minor": 5
}
