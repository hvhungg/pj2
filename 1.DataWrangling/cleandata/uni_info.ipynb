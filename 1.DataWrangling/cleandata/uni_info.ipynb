{
 "cells": [
  {
   "cell_type": "markdown",
   "id": "d0c7a4c3",
   "metadata": {},
   "source": [
    "## Clean and normalize \"University_info.csv\" dataset\n",
    "\n",
    "> Review through data and clean the set at the basic level before merging"
   ]
  },
  {
   "cell_type": "markdown",
   "id": "8fc449f7",
   "metadata": {},
   "source": [
    "### Import some useful libraries"
   ]
  },
  {
   "cell_type": "code",
   "execution_count": 1,
   "id": "e511eb2e",
   "metadata": {},
   "outputs": [
    {
     "name": "stdout",
     "output_type": "stream",
     "text": [
      "import completed\n"
     ]
    }
   ],
   "source": [
    "import pandas as pd\n",
    "import numpy as np\n",
    "print(\"import completed\")"
   ]
  },
  {
   "cell_type": "markdown",
   "id": "e4f7e517",
   "metadata": {},
   "source": [
    "### Import the data from csv file\n",
    "\n",
    "> the size of the original file is too huge for the \"read_csv\" function to read properly => set `low_memory`"
   ]
  },
  {
   "cell_type": "code",
   "execution_count": 2,
   "id": "b0dd9603",
   "metadata": {},
   "outputs": [],
   "source": [
    "df = pd.read_csv(r\"../data/University_info.csv\", low_memory = False)"
   ]
  },
  {
   "cell_type": "markdown",
   "id": "87827e35",
   "metadata": {},
   "source": [
    "### Review the data\n",
    "\n",
    "> The file is too huge and contains unnecessary info => drop irrelevant columns before actually read the data"
   ]
  },
  {
   "cell_type": "markdown",
   "id": "d045418b",
   "metadata": {},
   "source": [
    "**1. Review first 5 rows**"
   ]
  },
  {
   "cell_type": "code",
   "execution_count": 3,
   "id": "c3bbdfd5",
   "metadata": {},
   "outputs": [
    {
     "name": "stdout",
     "output_type": "stream",
     "text": [
      "   UNITID    OPEID  opeid6                               INSTNM        CITY  \\\n",
      "0  100654   100200    1002             Alabama A & M University      Normal   \n",
      "1  100663   105200    1052  University of Alabama at Birmingham  Birmingham   \n",
      "2  100690  2503400   25034                   Amridge University  Montgomery   \n",
      "3  100706   105500    1055  University of Alabama in Huntsville  Huntsville   \n",
      "4  100724   100500    1005             Alabama State University  Montgomery   \n",
      "\n",
      "  STABBR         ZIP                                       AccredAgency  \\\n",
      "0     AL       35762  Southern Association of Colleges and Schools C...   \n",
      "1     AL  35294-0110  Southern Association of Colleges and Schools C...   \n",
      "2     AL  36117-3553  Southern Association of Colleges and Schools C...   \n",
      "3     AL       35899  Southern Association of Colleges and Schools C...   \n",
      "4     AL  36104-0271  Southern Association of Colleges and Schools C...   \n",
      "\n",
      "                          INSTURL  \\\n",
      "0                   www.aamu.edu/   \n",
      "1                     www.uab.edu   \n",
      "2       www.amridgeuniversity.edu   \n",
      "3                     www.uah.edu   \n",
      "4  www.alasu.edu/email/index.aspx   \n",
      "\n",
      "                                              NPCURL  ...  \\\n",
      "0     galileo.aamu.edu/netpricecalculator/npcalc.htm  ...   \n",
      "1    www.collegeportraits.org/AL/UAB/estimator/agree  ...   \n",
      "2  tcc.noellevitz.com/(S(miwoihs5stz5cpyifh4nczu0...  ...   \n",
      "3                                    finaid.uah.edu/  ...   \n",
      "4  www.alasu.edu/cost-aid/forms/calculator/index....  ...   \n",
      "\n",
      "   PELL_RPY_3YR_RT_SUPP  NOPELL_RPY_3YR_RT_SUPP  FEMALE_RPY_3YR_RT_SUPP  \\\n",
      "0        0.443586698337           0.45251396648          0.484818805093   \n",
      "1        0.732297852901          0.795454545455          0.760521885522   \n",
      "2        0.600877192982                   0.775          0.610465116279   \n",
      "3        0.738341968912           0.85140562249          0.768378650554   \n",
      "4        0.320016820858          0.380829015544          0.364423717522   \n",
      "\n",
      "   MALE_RPY_3YR_RT_SUPP  FIRSTGEN_RPY_3YR_RT_SUPP  \\\n",
      "0                 0.406            0.423580786026   \n",
      "1        0.755344418052            0.751552795031   \n",
      "2        0.686567164179            0.632653061224   \n",
      "3        0.798440979955            0.778156996587   \n",
      "4        0.286530612245            0.315737051793   \n",
      "\n",
      "   NOTFIRSTGEN_RPY_3YR_RT_SUPP  C150_L4_POOLED_SUPP  C150_4_POOLED_SUPP  \\\n",
      "0               0.442452830189                  NaN    0.30871831265508   \n",
      "1               0.765074770863                  NaN    0.50854980789381   \n",
      "2                         0.65                  NaN   PrivacySuppressed   \n",
      "3               0.791666666667                  NaN    0.47821134615384   \n",
      "4               0.334633385335                  NaN    0.25748195545488   \n",
      "\n",
      "   C200_L4_POOLED_SUPP  C200_4_POOLED_SUPP  \n",
      "0                  NaN    0.35168556430446  \n",
      "1                  NaN     0.4730923834537  \n",
      "2                  NaN   PrivacySuppressed  \n",
      "3                  NaN    0.49412939796716  \n",
      "4                  NaN    0.29365162671232  \n",
      "\n",
      "[5 rows x 1729 columns]\n"
     ]
    }
   ],
   "source": [
    "print(df.head())"
   ]
  },
  {
   "cell_type": "markdown",
   "id": "4d38cf94",
   "metadata": {},
   "source": [
    "**2. Remove columns that contain only `null` values**"
   ]
  },
  {
   "cell_type": "code",
   "execution_count": 4,
   "id": "23e996db",
   "metadata": {},
   "outputs": [],
   "source": [
    "df = df.dropna(axis = 1, how = \"all\")"
   ]
  },
  {
   "cell_type": "markdown",
   "id": "bf928086",
   "metadata": {},
   "source": [
    "**3. Using \"dictionary_university_info.csv\", take necessary columns**"
   ]
  },
  {
   "cell_type": "code",
   "execution_count": 5,
   "id": "b74d3780",
   "metadata": {},
   "outputs": [],
   "source": [
    "df = df[[\"INSTNM\" ,\"CITY\", \"STABBR\", \"LOCALE\", \"CIP11ASSOC\", \"CIP11BACHL\", \"WOMENONLY\"]]\n",
    "check = 0"
   ]
  },
  {
   "cell_type": "markdown",
   "id": "33521070",
   "metadata": {},
   "source": [
    "### Review the actual data"
   ]
  },
  {
   "cell_type": "markdown",
   "id": "1ba50440",
   "metadata": {},
   "source": [
    "**1.Read first 5 rows**"
   ]
  },
  {
   "cell_type": "code",
   "execution_count": 6,
   "id": "74c26cd4",
   "metadata": {},
   "outputs": [
    {
     "name": "stdout",
     "output_type": "stream",
     "text": [
      "                                INSTNM        CITY STABBR  LOCALE  CIP11ASSOC  \\\n",
      "0             Alabama A & M University      Normal     AL    12.0         0.0   \n",
      "1  University of Alabama at Birmingham  Birmingham     AL    12.0         0.0   \n",
      "2                   Amridge University  Montgomery     AL    12.0         2.0   \n",
      "3  University of Alabama in Huntsville  Huntsville     AL    12.0         0.0   \n",
      "4             Alabama State University  Montgomery     AL    12.0         0.0   \n",
      "\n",
      "   CIP11BACHL  WOMENONLY  \n",
      "0         2.0        0.0  \n",
      "1         2.0        0.0  \n",
      "2         2.0        0.0  \n",
      "3         2.0        0.0  \n",
      "4         2.0        0.0  \n"
     ]
    }
   ],
   "source": [
    "print(df.head())"
   ]
  },
  {
   "cell_type": "markdown",
   "id": "af4ceed8",
   "metadata": {},
   "source": [
    "**2. Review numeric columns**"
   ]
  },
  {
   "cell_type": "code",
   "execution_count": 7,
   "id": "7a8e322a",
   "metadata": {},
   "outputs": [
    {
     "name": "stdout",
     "output_type": "stream",
     "text": [
      "(7804, 7)\n",
      "            LOCALE   CIP11ASSOC   CIP11BACHL    WOMENONLY\n",
      "count  7380.000000  7383.000000  7383.000000  7383.000000\n",
      "mean     19.589024     0.419206     0.367872     0.005824\n",
      "std       9.380431     0.695182     0.673537     0.076099\n",
      "min      11.000000     0.000000     0.000000     0.000000\n",
      "25%      12.000000     0.000000     0.000000     0.000000\n",
      "50%      21.000000     0.000000     0.000000     0.000000\n",
      "75%      22.000000     1.000000     1.000000     0.000000\n",
      "max      43.000000     2.000000     2.000000     1.000000\n"
     ]
    }
   ],
   "source": [
    "print(df.shape)\n",
    "print(df.describe())"
   ]
  },
  {
   "cell_type": "markdown",
   "id": "f21ad5f4",
   "metadata": {},
   "source": [
    "**3. Review basic info for all columns**"
   ]
  },
  {
   "cell_type": "code",
   "execution_count": 8,
   "id": "cd0ec4c8",
   "metadata": {},
   "outputs": [
    {
     "name": "stdout",
     "output_type": "stream",
     "text": [
      "<class 'pandas.core.frame.DataFrame'>\n",
      "RangeIndex: 7804 entries, 0 to 7803\n",
      "Data columns (total 7 columns):\n",
      " #   Column      Non-Null Count  Dtype  \n",
      "---  ------      --------------  -----  \n",
      " 0   INSTNM      7804 non-null   object \n",
      " 1   CITY        7804 non-null   object \n",
      " 2   STABBR      7804 non-null   object \n",
      " 3   LOCALE      7380 non-null   float64\n",
      " 4   CIP11ASSOC  7383 non-null   float64\n",
      " 5   CIP11BACHL  7383 non-null   float64\n",
      " 6   WOMENONLY   7383 non-null   float64\n",
      "dtypes: float64(4), object(3)\n",
      "memory usage: 426.9+ KB\n",
      "None\n"
     ]
    }
   ],
   "source": [
    "print(df.info())"
   ]
  },
  {
   "cell_type": "markdown",
   "id": "4f2d9345",
   "metadata": {},
   "source": [
    "**4. Check for duplication**"
   ]
  },
  {
   "cell_type": "code",
   "execution_count": 9,
   "id": "49ed9020",
   "metadata": {},
   "outputs": [
    {
     "name": "stdout",
     "output_type": "stream",
     "text": [
      "                                                 INSTNM          CITY STABBR  \\\n",
      "1016             Cannella School of Hair Design-Chicago       Chicago     IL   \n",
      "4485             Cannella School of Hair Design-Chicago       Chicago     IL   \n",
      "5674                          Dewey University-Hato Rey      Hato Rey     PR   \n",
      "6966  Trend Setters' Academy of Beauty Culture-Louis...    Louisville     KY   \n",
      "7031                          Fortis College-Montgomery    Montgomery     AL   \n",
      "7080                  Tulsa Welding School-Jacksonville  Jacksonville     FL   \n",
      "7298                         Tulsa Welding School-Tulsa         Tulsa     OK   \n",
      "7316             Southern Careers Institute-San Antonio   San Antonio     TX   \n",
      "\n",
      "      LOCALE  CIP11ASSOC  CIP11BACHL  WOMENONLY  \n",
      "1016    11.0         0.0         0.0        0.0  \n",
      "4485    11.0         0.0         0.0        0.0  \n",
      "5674    11.0         0.0         0.0        0.0  \n",
      "6966    11.0         0.0         0.0        0.0  \n",
      "7031    12.0         0.0         0.0        0.0  \n",
      "7080    11.0         0.0         0.0        0.0  \n",
      "7298    11.0         0.0         0.0        0.0  \n",
      "7316    11.0         0.0         0.0        0.0  \n"
     ]
    }
   ],
   "source": [
    "dup = df.duplicated()\n",
    "duprow = df[dup]\n",
    "print(duprow)"
   ]
  },
  {
   "cell_type": "markdown",
   "id": "30477ceb",
   "metadata": {},
   "source": [
    "- drop duplicated rows "
   ]
  },
  {
   "cell_type": "code",
   "execution_count": 10,
   "id": "4fd47918",
   "metadata": {},
   "outputs": [],
   "source": [
    "if(check == 0):\n",
    "    df = df.drop(axis = 0, index = [1016, 4485, 5674, 6966, 7031, 7080, 7298, 7316])\n",
    "    check = 1"
   ]
  },
  {
   "cell_type": "markdown",
   "id": "44c93c89",
   "metadata": {},
   "source": [
    "- re-check for duplications"
   ]
  },
  {
   "cell_type": "code",
   "execution_count": 11,
   "id": "6284b824",
   "metadata": {},
   "outputs": [
    {
     "name": "stdout",
     "output_type": "stream",
     "text": [
      "Empty DataFrame\n",
      "Columns: [INSTNM, CITY, STABBR, LOCALE, CIP11ASSOC, CIP11BACHL, WOMENONLY]\n",
      "Index: []\n"
     ]
    }
   ],
   "source": [
    "dup = df.duplicated()\n",
    "duprow = df[dup]\n",
    "print(duprow)"
   ]
  },
  {
   "cell_type": "markdown",
   "id": "95071716",
   "metadata": {},
   "source": [
    "**5. Sort dataset due to requests**"
   ]
  },
  {
   "cell_type": "code",
   "execution_count": 12,
   "id": "9b8dceed",
   "metadata": {},
   "outputs": [],
   "source": [
    "sum_col = df[\"CIP11ASSOC\"] + df[\"CIP11BACHL\"]\n",
    "df[\"CIP11EXT\"] = sum_col\n",
    "df = df.loc[(df[\"LOCALE\"] < 14) & (df[\"WOMENONLY\"] == 0) & (df[\"CIP11EXT\"] != 0)]\n",
    "df = df.reset_index(drop = True)\n",
    "check2 = 0"
   ]
  },
  {
   "cell_type": "code",
   "execution_count": 13,
   "id": "815b8874",
   "metadata": {},
   "outputs": [],
   "source": [
    "if (check2 == 0):\n",
    "    df = df.drop(axis = 1, columns = [\"WOMENONLY\", \"CIP11EXT\"])\n",
    "    check2 = 1"
   ]
  },
  {
   "cell_type": "markdown",
   "id": "15604d80",
   "metadata": {},
   "source": [
    "**6. Use the same word formats for all table**"
   ]
  },
  {
   "cell_type": "code",
   "execution_count": 14,
   "id": "d8134bd6",
   "metadata": {},
   "outputs": [],
   "source": [
    "for x in range(1362):\n",
    "    tmp = df.loc[x, \"CITY\"].split(\" \")\n",
    "    res = \"\"\n",
    "    res = res.join(tmp)\n",
    "    df.loc[x, \"CITY\"] = res\n",
    "for x in range(1362):\n",
    "    tmp = df.loc[x, \"CITY\"].split(\".\")\n",
    "    res = \"\"\n",
    "    res = res.join(tmp)\n",
    "    df.loc[x, \"CITY\"] = res"
   ]
  },
  {
   "cell_type": "markdown",
   "id": "1c62de71",
   "metadata": {},
   "source": [
    "### Double-check the data"
   ]
  },
  {
   "cell_type": "markdown",
   "id": "fb0dd374",
   "metadata": {},
   "source": [
    "**1. Read first 5 rows**"
   ]
  },
  {
   "cell_type": "code",
   "execution_count": 15,
   "id": "e626ffba",
   "metadata": {},
   "outputs": [
    {
     "name": "stdout",
     "output_type": "stream",
     "text": [
      "                                INSTNM        CITY STABBR  LOCALE  CIP11ASSOC  \\\n",
      "0             Alabama A & M University      Normal     AL    12.0         0.0   \n",
      "1  University of Alabama at Birmingham  Birmingham     AL    12.0         0.0   \n",
      "2                   Amridge University  Montgomery     AL    12.0         2.0   \n",
      "3  University of Alabama in Huntsville  Huntsville     AL    12.0         0.0   \n",
      "4             Alabama State University  Montgomery     AL    12.0         0.0   \n",
      "\n",
      "   CIP11BACHL  \n",
      "0         2.0  \n",
      "1         2.0  \n",
      "2         2.0  \n",
      "3         2.0  \n",
      "4         2.0  \n"
     ]
    }
   ],
   "source": [
    "print(df.head())"
   ]
  },
  {
   "cell_type": "markdown",
   "id": "fb123794",
   "metadata": {},
   "source": [
    "**2. View basic info**"
   ]
  },
  {
   "cell_type": "code",
   "execution_count": 16,
   "id": "59c7b0bd",
   "metadata": {},
   "outputs": [
    {
     "name": "stdout",
     "output_type": "stream",
     "text": [
      "<class 'pandas.core.frame.DataFrame'>\n",
      "RangeIndex: 1362 entries, 0 to 1361\n",
      "Data columns (total 6 columns):\n",
      " #   Column      Non-Null Count  Dtype  \n",
      "---  ------      --------------  -----  \n",
      " 0   INSTNM      1362 non-null   object \n",
      " 1   CITY        1362 non-null   object \n",
      " 2   STABBR      1362 non-null   object \n",
      " 3   LOCALE      1362 non-null   float64\n",
      " 4   CIP11ASSOC  1362 non-null   float64\n",
      " 5   CIP11BACHL  1362 non-null   float64\n",
      "dtypes: float64(3), object(3)\n",
      "memory usage: 64.0+ KB\n",
      "None\n"
     ]
    }
   ],
   "source": [
    "print(df.info())"
   ]
  },
  {
   "cell_type": "markdown",
   "id": "4f298d50",
   "metadata": {},
   "source": [
    "**3. Count null values**"
   ]
  },
  {
   "cell_type": "code",
   "execution_count": 17,
   "id": "a622bdf9",
   "metadata": {},
   "outputs": [
    {
     "name": "stdout",
     "output_type": "stream",
     "text": [
      "INSTNM        0\n",
      "CITY          0\n",
      "STABBR        0\n",
      "LOCALE        0\n",
      "CIP11ASSOC    0\n",
      "CIP11BACHL    0\n",
      "dtype: int64\n"
     ]
    }
   ],
   "source": [
    "print(df.isnull().sum())"
   ]
  },
  {
   "cell_type": "markdown",
   "id": "a908f458",
   "metadata": {},
   "source": [
    "### Export the data"
   ]
  },
  {
   "cell_type": "code",
   "execution_count": 18,
   "id": "58b93163",
   "metadata": {},
   "outputs": [
    {
     "name": "stdout",
     "output_type": "stream",
     "text": [
      "Export completed\n"
     ]
    }
   ],
   "source": [
    "df.to_csv(\"./dataset/uni_info.csv\", index = False)\n",
    "print(\"Export completed\")"
   ]
  }
 ],
 "metadata": {
  "kernelspec": {
   "display_name": "Python 3 (ipykernel)",
   "language": "python",
   "name": "python3"
  },
  "language_info": {
   "codemirror_mode": {
    "name": "ipython",
    "version": 3
   },
   "file_extension": ".py",
   "mimetype": "text/x-python",
   "name": "python",
   "nbconvert_exporter": "python",
   "pygments_lexer": "ipython3",
   "version": "3.7.11"
  }
 },
 "nbformat": 4,
 "nbformat_minor": 5
}
