{
 "cells": [
  {
   "cell_type": "markdown",
   "id": "3fa49862",
   "metadata": {},
   "source": [
    "# Clean the data "
   ]
  },
  {
   "cell_type": "markdown",
   "id": "562ae713",
   "metadata": {},
   "source": [
    "### Import libraries"
   ]
  },
  {
   "cell_type": "code",
   "execution_count": 1,
   "id": "10ffc72d",
   "metadata": {},
   "outputs": [
    {
     "name": "stdout",
     "output_type": "stream",
     "text": [
      "Import Completed\n"
     ]
    }
   ],
   "source": [
    "import pandas as pd\n",
    "import numpy as np\n",
    "print(\"Import Completed\")"
   ]
  },
  {
   "cell_type": "markdown",
   "id": "bd2d0f34",
   "metadata": {},
   "source": [
    "### Import the data "
   ]
  },
  {
   "cell_type": "code",
   "execution_count": 2,
   "id": "64632383",
   "metadata": {},
   "outputs": [],
   "source": [
    "df = pd.read_csv(r\"./data_ecommerce.csv\")"
   ]
  },
  {
   "cell_type": "markdown",
   "id": "956ff47a",
   "metadata": {},
   "source": [
    "### Read the data"
   ]
  },
  {
   "cell_type": "markdown",
   "id": "7a58e4c3",
   "metadata": {},
   "source": [
    "**1. Review first 5 rows**"
   ]
  },
  {
   "cell_type": "code",
   "execution_count": 3,
   "id": "e6c7a31c",
   "metadata": {},
   "outputs": [
    {
     "name": "stdout",
     "output_type": "stream",
     "text": [
      "   Seller ID Seller's Main Category Sign-up Time Activation Time 1st Listing  \\\n",
      "0          1             Electronic    9/20/2017        2/2/2018    2/7/2018   \n",
      "1          2                   BBFF    8/19/2017       5/24/2018   8/13/2018   \n",
      "2          3                   BBFF    12/4/2017        5/4/2018   10/6/2018   \n",
      "3          4                   BBFF   10/16/2017       4/23/2018    7/4/2018   \n",
      "4          5                   BBFF   12/13/2017       7/25/2018   8/30/2018   \n",
      "\n",
      "  1st Salable 1st Transaction  \n",
      "0   10/6/2018      10/10/2018  \n",
      "1   8/14/2018        9/2/2018  \n",
      "2  10/10/2018      10/12/2018  \n",
      "3   7/10/2018       7/10/2018  \n",
      "4   8/31/2018       9/14/2018  \n"
     ]
    }
   ],
   "source": [
    "print(df.head())"
   ]
  },
  {
   "cell_type": "markdown",
   "id": "fc901b1c",
   "metadata": {},
   "source": [
    "**2. View basic info**"
   ]
  },
  {
   "cell_type": "code",
   "execution_count": 4,
   "id": "6821c066",
   "metadata": {},
   "outputs": [
    {
     "name": "stdout",
     "output_type": "stream",
     "text": [
      "(2145, 7)\n",
      "<class 'pandas.core.frame.DataFrame'>\n",
      "RangeIndex: 2145 entries, 0 to 2144\n",
      "Data columns (total 7 columns):\n",
      " #   Column                  Non-Null Count  Dtype \n",
      "---  ------                  --------------  ----- \n",
      " 0   Seller ID               2145 non-null   int64 \n",
      " 1   Seller's Main Category  2145 non-null   object\n",
      " 2   Sign-up Time            2145 non-null   object\n",
      " 3   Activation Time         2145 non-null   object\n",
      " 4   1st Listing             2145 non-null   object\n",
      " 5   1st Salable             2145 non-null   object\n",
      " 6   1st Transaction         2145 non-null   object\n",
      "dtypes: int64(1), object(6)\n",
      "memory usage: 117.4+ KB\n",
      "None\n"
     ]
    }
   ],
   "source": [
    "print(df.shape)\n",
    "print(df.info())"
   ]
  },
  {
   "cell_type": "markdown",
   "id": "b5236633",
   "metadata": {},
   "source": [
    "**3. Check for missing values**"
   ]
  },
  {
   "cell_type": "code",
   "execution_count": 5,
   "id": "4af8288d",
   "metadata": {},
   "outputs": [
    {
     "name": "stdout",
     "output_type": "stream",
     "text": [
      "Seller ID                 0\n",
      "Seller's Main Category    0\n",
      "Sign-up Time              0\n",
      "Activation Time           0\n",
      "1st Listing               0\n",
      "1st Salable               0\n",
      "1st Transaction           0\n",
      "dtype: int64\n"
     ]
    }
   ],
   "source": [
    "print(df.isnull().sum())"
   ]
  },
  {
   "cell_type": "markdown",
   "id": "090f50b1",
   "metadata": {},
   "source": [
    "**4. Check for duplication**"
   ]
  },
  {
   "cell_type": "code",
   "execution_count": 6,
   "id": "86465311",
   "metadata": {},
   "outputs": [
    {
     "name": "stdout",
     "output_type": "stream",
     "text": [
      "Empty DataFrame\n",
      "Columns: [Seller ID, Seller's Main Category, Sign-up Time, Activation Time, 1st Listing, 1st Salable, 1st Transaction]\n",
      "Index: []\n"
     ]
    }
   ],
   "source": [
    "dup = df.duplicated()\n",
    "duprow = df[dup]\n",
    "print(duprow)"
   ]
  },
  {
   "cell_type": "markdown",
   "id": "e609f1bc",
   "metadata": {},
   "source": [
    "**5. View detailed information**"
   ]
  },
  {
   "cell_type": "markdown",
   "id": "7555729c",
   "metadata": {},
   "source": [
    "- Check for any strange values in \"Seller's Main Category\" column"
   ]
  },
  {
   "cell_type": "code",
   "execution_count": 7,
   "id": "4836c55a",
   "metadata": {},
   "outputs": [
    {
     "name": "stdout",
     "output_type": "stream",
     "text": [
      "['Electronic' 'BBFF' 'LifeStyle' 'Digital Service' 'Book']\n"
     ]
    }
   ],
   "source": [
    "print(df[\"Seller's Main Category\"].unique())"
   ]
  },
  {
   "cell_type": "markdown",
   "id": "8907381c",
   "metadata": {},
   "source": [
    "- Count number of unique values in \"Seller's Main Category\" column"
   ]
  },
  {
   "cell_type": "code",
   "execution_count": 8,
   "id": "bfe34190",
   "metadata": {},
   "outputs": [
    {
     "name": "stdout",
     "output_type": "stream",
     "text": [
      "BBFF               1130\n",
      "LifeStyle           501\n",
      "Electronic          262\n",
      "Book                130\n",
      "Digital Service     122\n",
      "Name: Seller's Main Category, dtype: int64\n"
     ]
    }
   ],
   "source": [
    "print(df[\"Seller's Main Category\"].value_counts())"
   ]
  },
  {
   "cell_type": "markdown",
   "id": "3289d0b3",
   "metadata": {},
   "source": [
    "- Re-format the date-type in 5 columns (\"Sign-up Time\", \"Activation Time\", \"1st Listing\", \"1st Salable\", \"1st Transaction\")"
   ]
  },
  {
   "cell_type": "code",
   "execution_count": 9,
   "id": "7213d421",
   "metadata": {},
   "outputs": [],
   "source": [
    "for i in range(2145):\n",
    "    for j in range(2, 7):\n",
    "        tmp = \"-\"\n",
    "        df.iloc[i, j] = tmp.join(df.iloc[i, j].split(\"/\"))"
   ]
  },
  {
   "cell_type": "markdown",
   "id": "8ad3008f",
   "metadata": {},
   "source": [
    "- Check if there is any invalid date ( len(pos) = 0 &rarr; no invalid date)"
   ]
  },
  {
   "cell_type": "code",
   "execution_count": 10,
   "id": "328fa43c",
   "metadata": {},
   "outputs": [
    {
     "name": "stdout",
     "output_type": "stream",
     "text": [
      "0\n"
     ]
    }
   ],
   "source": [
    "pos = []\n",
    "for i in range(2145):\n",
    "    for j in range(2, 7):\n",
    "        tmp = df.iloc[i, j].split(\"-\")\n",
    "        for z in range(3):\n",
    "            a = int(tmp[z])\n",
    "            tmp[z] = a\n",
    "        if tmp[0] == 2:\n",
    "            if tmp[1] > 28:\n",
    "                pos.append([i, j])\n",
    "        else:\n",
    "            if (tmp[0] < 8 and tmp[0] % 2 == 1) or (tmp[0] > 7 and tmp[0] % 2 == 0):\n",
    "                if tmp[1] > 31:\n",
    "                    pos.append([i, j])\n",
    "            else:\n",
    "                if tmp[1] > 31:\n",
    "                    pos.append([i, j])\n",
    "print(len(pos))"
   ]
  },
  {
   "cell_type": "markdown",
   "id": "7770fe52",
   "metadata": {},
   "source": [
    "### Export the data"
   ]
  },
  {
   "cell_type": "code",
   "execution_count": 11,
   "id": "4722fffc",
   "metadata": {},
   "outputs": [],
   "source": [
    "df.to_csv(\"./dataEcommerceClean.csv\", index = False)"
   ]
  }
 ],
 "metadata": {
  "kernelspec": {
   "display_name": "Python 3 (ipykernel)",
   "language": "python",
   "name": "python3"
  },
  "language_info": {
   "codemirror_mode": {
    "name": "ipython",
    "version": 3
   },
   "file_extension": ".py",
   "mimetype": "text/x-python",
   "name": "python",
   "nbconvert_exporter": "python",
   "pygments_lexer": "ipython3",
   "version": "3.7.11"
  }
 },
 "nbformat": 4,
 "nbformat_minor": 5
}
